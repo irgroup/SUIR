{
 "cells": [
  {
   "cell_type": "code",
   "execution_count": 2,
   "metadata": {},
   "outputs": [
    {
     "data": {
      "text/plain": [
       "False"
      ]
     },
     "execution_count": 2,
     "metadata": {},
     "output_type": "execute_result"
    }
   ],
   "source": [
    "import torch\n",
    "torch.cuda.is_available()"
   ]
  },
  {
   "cell_type": "code",
   "execution_count": 2,
   "metadata": {},
   "outputs": [
    {
     "name": "stderr",
     "output_type": "stream",
     "text": [
      "PyTerrier 0.9.2 has loaded Terrier 5.7 (built by craigm on 2022-11-10 18:30) and terrier-helper 0.0.7\n",
      "\n",
      "No etc/terrier.properties, using terrier.default.properties for bootstrap configuration.\n"
     ]
    }
   ],
   "source": [
    "import pyterrier as pt\n",
    "import numpy as np\n",
    "import pandas as pd\n",
    "\n",
    "from tqdm import tqdm\n",
    "import zipfile\n",
    "import glob\n",
    "import ir_datasets\n",
    "if not pt.started():\n",
    "  pt.init()\n",
    "\n",
    "from pyterrier_t5 import MonoT5ReRanker"
   ]
  },
  {
   "cell_type": "code",
   "execution_count": 4,
   "metadata": {},
   "outputs": [],
   "source": [
    "dataset_nyt = ir_datasets.load(\"nyt\")\n",
    "dataset_wapo = ir_datasets.load(\"wapo/v2\")"
   ]
  },
  {
   "cell_type": "code",
   "execution_count": 5,
   "metadata": {},
   "outputs": [],
   "source": [
    "index_ref_nyt = pt.IndexRef.of(\"/app/indices/nyt/\")\n",
    "index_ref_wapo = pt.IndexRef.of(\"/app/indices/wapo/\")"
   ]
  },
  {
   "cell_type": "code",
   "execution_count": 5,
   "metadata": {},
   "outputs": [
    {
     "name": "stderr",
     "output_type": "stream",
     "text": [
      "/usr/local/lib/python3.8/site-packages/transformers/models/t5/tokenization_t5.py:217: FutureWarning: This tokenizer was incorrectly instantiated with a model max length of 512 which will be corrected in Transformers v5.\n",
      "For now, this behavior is kept to avoid breaking backwards compatibility when padding/encoding with `truncation is True`.\n",
      "- Be aware that you SHOULD NOT rely on t5-base automatically truncating your input to 512 when padding/encoding.\n",
      "- If you want to encode/pad to sequences longer than 512 you can either instantiate this tokenizer with `model_max_length` or pass `max_length` when encoding/padding.\n",
      "- To avoid this warning, please instantiate this tokenizer with `model_max_length` set to your preferred value.\n",
      "  warnings.warn(\n",
      "You are using the default legacy behaviour of the <class 'transformers.models.t5.tokenization_t5.T5Tokenizer'>. If you see this, DO NOT PANIC! This is expected, and simply means that the `legacy` (previous) behavior will be used so nothing changes for you. If you want to use the new behaviour, set `legacy=True`. This should only be set if you understand what it means, and thouroughly read the reason why this was added as explained in https://github.com/huggingface/transformers/pull/24565\n"
     ]
    }
   ],
   "source": [
    "monoT5 = MonoT5ReRanker(text_field=\"body\", batch_size=100, verbose=True)\n",
    "\n",
    "bm25 = pt.BatchRetrieve(index_ref_wapo , wmodel='BM25', num_results=200)\n",
    "mono_pipeline = bm25 >> pt.text.get_text(index_ref_wapo, \"body\") >> monoT5\n",
    "\n",
    "mono_pipeline_500 = pt.BatchRetrieve(index_ref_wapo , wmodel='BM25', num_results=500) >>  pt.text.get_text(index_ref_wapo, \"body\") >> monoT5\n",
    "mono_pipeline_50 = pt.BatchRetrieve(index_ref_wapo , wmodel='BM25', num_results=50) >>  pt.text.get_text(index_ref_wapo, \"body\") >> monoT5"
   ]
  },
  {
   "cell_type": "code",
   "execution_count": 6,
   "metadata": {},
   "outputs": [],
   "source": [
    "ds1_nyt = pt.get_dataset('irds:nyt/trec-core-2017')\n",
    "ds1_wapo = pt.get_dataset('irds:wapo/v2/trec-core-2018')"
   ]
  },
  {
   "cell_type": "code",
   "execution_count": 7,
   "metadata": {},
   "outputs": [
    {
     "data": {
      "text/html": [
       "<div>\n",
       "<style scoped>\n",
       "    .dataframe tbody tr th:only-of-type {\n",
       "        vertical-align: middle;\n",
       "    }\n",
       "\n",
       "    .dataframe tbody tr th {\n",
       "        vertical-align: top;\n",
       "    }\n",
       "\n",
       "    .dataframe thead th {\n",
       "        text-align: right;\n",
       "    }\n",
       "</style>\n",
       "<table border=\"1\" class=\"dataframe\">\n",
       "  <thead>\n",
       "    <tr style=\"text-align: right;\">\n",
       "      <th></th>\n",
       "      <th>qid</th>\n",
       "      <th>docno</th>\n",
       "      <th>label</th>\n",
       "      <th>iteration</th>\n",
       "    </tr>\n",
       "  </thead>\n",
       "  <tbody>\n",
       "    <tr>\n",
       "      <th>0</th>\n",
       "      <td>307</td>\n",
       "      <td>1001536</td>\n",
       "      <td>1</td>\n",
       "      <td>0</td>\n",
       "    </tr>\n",
       "    <tr>\n",
       "      <th>1</th>\n",
       "      <td>307</td>\n",
       "      <td>1002887</td>\n",
       "      <td>1</td>\n",
       "      <td>0</td>\n",
       "    </tr>\n",
       "    <tr>\n",
       "      <th>2</th>\n",
       "      <td>307</td>\n",
       "      <td>1005682</td>\n",
       "      <td>0</td>\n",
       "      <td>0</td>\n",
       "    </tr>\n",
       "    <tr>\n",
       "      <th>3</th>\n",
       "      <td>307</td>\n",
       "      <td>1007340</td>\n",
       "      <td>1</td>\n",
       "      <td>0</td>\n",
       "    </tr>\n",
       "    <tr>\n",
       "      <th>4</th>\n",
       "      <td>307</td>\n",
       "      <td>101295</td>\n",
       "      <td>1</td>\n",
       "      <td>0</td>\n",
       "    </tr>\n",
       "    <tr>\n",
       "      <th>...</th>\n",
       "      <td>...</td>\n",
       "      <td>...</td>\n",
       "      <td>...</td>\n",
       "      <td>...</td>\n",
       "    </tr>\n",
       "    <tr>\n",
       "      <th>30025</th>\n",
       "      <td>690</td>\n",
       "      <td>991749</td>\n",
       "      <td>0</td>\n",
       "      <td>0</td>\n",
       "    </tr>\n",
       "    <tr>\n",
       "      <th>30026</th>\n",
       "      <td>690</td>\n",
       "      <td>993504</td>\n",
       "      <td>0</td>\n",
       "      <td>0</td>\n",
       "    </tr>\n",
       "    <tr>\n",
       "      <th>30027</th>\n",
       "      <td>690</td>\n",
       "      <td>994345</td>\n",
       "      <td>0</td>\n",
       "      <td>0</td>\n",
       "    </tr>\n",
       "    <tr>\n",
       "      <th>30028</th>\n",
       "      <td>690</td>\n",
       "      <td>995425</td>\n",
       "      <td>0</td>\n",
       "      <td>0</td>\n",
       "    </tr>\n",
       "    <tr>\n",
       "      <th>30029</th>\n",
       "      <td>690</td>\n",
       "      <td>996059</td>\n",
       "      <td>0</td>\n",
       "      <td>0</td>\n",
       "    </tr>\n",
       "  </tbody>\n",
       "</table>\n",
       "<p>30030 rows × 4 columns</p>\n",
       "</div>"
      ],
      "text/plain": [
       "       qid    docno  label iteration\n",
       "0      307  1001536      1         0\n",
       "1      307  1002887      1         0\n",
       "2      307  1005682      0         0\n",
       "3      307  1007340      1         0\n",
       "4      307   101295      1         0\n",
       "...    ...      ...    ...       ...\n",
       "30025  690   991749      0         0\n",
       "30026  690   993504      0         0\n",
       "30027  690   994345      0         0\n",
       "30028  690   995425      0         0\n",
       "30029  690   996059      0         0\n",
       "\n",
       "[30030 rows x 4 columns]"
      ]
     },
     "execution_count": 7,
     "metadata": {},
     "output_type": "execute_result"
    }
   ],
   "source": [
    "ds1_nyt.get_qrels()"
   ]
  },
  {
   "cell_type": "code",
   "execution_count": 8,
   "metadata": {},
   "outputs": [
    {
     "name": "stderr",
     "output_type": "stream",
     "text": [
      "[INFO] [starting] https://trec.nist.gov/data/core/core_nist.txt\n",
      "[INFO] [finished] https://trec.nist.gov/data/core/core_nist.txt: [00:00] [24.4kB] [229kB/s]\n",
      "                                                                         \r"
     ]
    }
   ],
   "source": [
    "for i, row in ds1_nyt.get_topics('title').iterrows():\n",
    "    query = row['query']\n",
    "\n",
    "    with open(f\"/workspace/data/nyt/topics/topic.{i+1}\", \"w\") as f:\n",
    "        f.write(query)"
   ]
  },
  {
   "cell_type": "code",
   "execution_count": 10,
   "metadata": {},
   "outputs": [
    {
     "name": "stdout",
     "output_type": "stream",
     "text": [
      "There are multiple query fields available: ('title', 'description', 'narrative'). To use with pyterrier, provide variant or modify dataframe to add query column.\n"
     ]
    }
   ],
   "source": [
    "nyt_topics = ds1_nyt.get_topics()"
   ]
  },
  {
   "cell_type": "code",
   "execution_count": 12,
   "metadata": {},
   "outputs": [],
   "source": [
    "nyt_topics.to_pickle(\"nyt_topics.pkl\")"
   ]
  },
  {
   "cell_type": "code",
   "execution_count": 13,
   "metadata": {},
   "outputs": [
    {
     "name": "stdout",
     "output_type": "stream",
     "text": [
      "There are multiple query fields available: ('title', 'description', 'narrative'). To use with pyterrier, provide variant or modify dataframe to add query column.\n"
     ]
    }
   ],
   "source": [
    "ds1_wapo.get_topics().to_pickle(\"wapo_topics.pkl\")"
   ]
  },
  {
   "cell_type": "code",
   "execution_count": 11,
   "metadata": {},
   "outputs": [
    {
     "data": {
      "text/plain": [
       "pandas.core.frame.DataFrame"
      ]
     },
     "execution_count": 11,
     "metadata": {},
     "output_type": "execute_result"
    }
   ],
   "source": [
    "type(nyt_topics)"
   ]
  },
  {
   "cell_type": "code",
   "execution_count": 1,
   "metadata": {},
   "outputs": [
    {
     "ename": "NameError",
     "evalue": "name 'ds1_nyt' is not defined",
     "output_type": "error",
     "traceback": [
      "\u001b[0;31m---------------------------------------------------------------------------\u001b[0m",
      "\u001b[0;31mNameError\u001b[0m                                 Traceback (most recent call last)",
      "\u001b[1;32m/app/test.ipynb Cell 10\u001b[0m line \u001b[0;36m1\n\u001b[0;32m----> <a href='vscode-notebook-cell://attached-container%2B7b22636f6e7461696e65724e616d65223a222f737569725f73696d756c6174696f6e5f31227d/app/test.ipynb#X12sdnNjb2RlLXJlbW90ZQ%3D%3D?line=0'>1</a>\u001b[0m ds1_nyt\u001b[39m.\u001b[39mget_topics()\n",
      "\u001b[0;31mNameError\u001b[0m: name 'ds1_nyt' is not defined"
     ]
    }
   ],
   "source": [
    "ds1_nyt.get_topics()"
   ]
  },
  {
   "cell_type": "code",
   "execution_count": 11,
   "metadata": {},
   "outputs": [],
   "source": [
    "title_queries = \"\"\n",
    "for i, row in ds1_nyt.get_topics('title').iterrows():\n",
    "    i_id = i+1\n",
    "    query = row['query']\n",
    "\n",
    "    line = f\"1,1,{row['qid']},{query}\\n\"\n",
    "    title_queries += line\n",
    "\n",
    "with open(f\"/workspace/data/nyt/title_queries\", \"w\") as f:\n",
    "    f.write(title_queries)"
   ]
  },
  {
   "cell_type": "code",
   "execution_count": 9,
   "metadata": {},
   "outputs": [
    {
     "name": "stdout",
     "output_type": "stream",
     "text": [
      "There are multiple query fields available: ('title', 'description', 'narrative'). To use with pyterrier, provide variant or modify dataframe to add query column.\n"
     ]
    }
   ],
   "source": [
    "full_topics = \"\"\n",
    "for i, row in ds1_nyt.get_topics().iterrows():\n",
    "    title = row['title']\n",
    "    description = row['description']\n",
    "    narrative = row['narrative']\n",
    "\n",
    "    line = f\"1,1,{row['qid']},{title},{description},{narrative}\\n\"\n",
    "    full_topics += line\n",
    "\n",
    "with open(f\"/workspace/data/nyt/full_topics\", \"w\") as f:\n",
    "    f.write(full_topics)"
   ]
  },
  {
   "cell_type": "code",
   "execution_count": 14,
   "metadata": {},
   "outputs": [],
   "source": [
    "#qrels\n",
    "wapo_qrel_path = \"/workspace/data/wapo/wapo_qrels1\"\n",
    "qrels = \"\"\n",
    "for i, row in ds1_wapo.get_qrels().iterrows():\n",
    "    label = 1 if int(row['label']) > 0 else 0\n",
    "    line = f\"{row['qid']} 0 {row['docno']} {label}\\n\"\n",
    "    qrels+= line\n",
    "\n",
    "with open(wapo_qrel_path, \"w\") as f:\n",
    "    f.write(qrels)"
   ]
  },
  {
   "cell_type": "code",
   "execution_count": 7,
   "metadata": {},
   "outputs": [
    {
     "name": "stderr",
     "output_type": "stream",
     "text": [
      "[INFO] [starting] https://trec.nist.gov/data/core/topics2018.txt\n",
      "[INFO] [finished] https://trec.nist.gov/data/core/topics2018.txt: [00:00] [24.1kB] [59.9MB/s]\n",
      "[INFO] [starting] https://trec.nist.gov/data/core/qrels2018.txt            \n",
      "[INFO] [finished] https://trec.nist.gov/data/core/qrels2018.txt: [00:00] [1.12MB] [1.28MB/s]\n",
      "pt.Experiment: 100%|██████████| 1/1 [00:10<00:00, 10.95s/system]          \n"
     ]
    },
    {
     "data": {
      "text/html": [
       "<div>\n",
       "<style scoped>\n",
       "    .dataframe tbody tr th:only-of-type {\n",
       "        vertical-align: middle;\n",
       "    }\n",
       "\n",
       "    .dataframe tbody tr th {\n",
       "        vertical-align: top;\n",
       "    }\n",
       "\n",
       "    .dataframe thead th {\n",
       "        text-align: right;\n",
       "    }\n",
       "</style>\n",
       "<table border=\"1\" class=\"dataframe\">\n",
       "  <thead>\n",
       "    <tr style=\"text-align: right;\">\n",
       "      <th></th>\n",
       "      <th>name</th>\n",
       "      <th>map</th>\n",
       "      <th>recip_rank</th>\n",
       "      <th>P_10</th>\n",
       "      <th>ndcg_cut_10</th>\n",
       "    </tr>\n",
       "  </thead>\n",
       "  <tbody>\n",
       "    <tr>\n",
       "      <th>0</th>\n",
       "      <td>BM25</td>\n",
       "      <td>0.168733</td>\n",
       "      <td>0.663436</td>\n",
       "      <td>0.404</td>\n",
       "      <td>0.37107</td>\n",
       "    </tr>\n",
       "  </tbody>\n",
       "</table>\n",
       "</div>"
      ],
      "text/plain": [
       "   name       map  recip_rank   P_10  ndcg_cut_10\n",
       "0  BM25  0.168733    0.663436  0.404      0.37107"
      ]
     },
     "execution_count": 7,
     "metadata": {},
     "output_type": "execute_result"
    }
   ],
   "source": [
    "pt.Experiment(\n",
    "    [bm25],\n",
    "    ds1_wapo.get_topics('title'),\n",
    "    ds1_wapo.get_qrels(),\n",
    "    eval_metrics=[\"map\", \"recip_rank\", \"P_10\", \"ndcg_cut_10\"],\n",
    "    names=[\"BM25\"],\n",
    "    verbose=True\n",
    ")"
   ]
  },
  {
   "cell_type": "code",
   "execution_count": 9,
   "metadata": {},
   "outputs": [
    {
     "name": "stderr",
     "output_type": "stream",
     "text": [
      "monoT5: 100%|██████████| 100/100 [03:29<00:00,  2.10s/batches]\n",
      "pt.Experiment: 100%|██████████| 1/1 [03:42<00:00, 222.32s/system]\n"
     ]
    },
    {
     "data": {
      "text/html": [
       "<div>\n",
       "<style scoped>\n",
       "    .dataframe tbody tr th:only-of-type {\n",
       "        vertical-align: middle;\n",
       "    }\n",
       "\n",
       "    .dataframe tbody tr th {\n",
       "        vertical-align: top;\n",
       "    }\n",
       "\n",
       "    .dataframe thead th {\n",
       "        text-align: right;\n",
       "    }\n",
       "</style>\n",
       "<table border=\"1\" class=\"dataframe\">\n",
       "  <thead>\n",
       "    <tr style=\"text-align: right;\">\n",
       "      <th></th>\n",
       "      <th>name</th>\n",
       "      <th>map</th>\n",
       "      <th>recip_rank</th>\n",
       "      <th>P_10</th>\n",
       "      <th>ndcg_cut_10</th>\n",
       "    </tr>\n",
       "  </thead>\n",
       "  <tbody>\n",
       "    <tr>\n",
       "      <th>0</th>\n",
       "      <td>MonoT5</td>\n",
       "      <td>0.20841</td>\n",
       "      <td>0.670647</td>\n",
       "      <td>0.476</td>\n",
       "      <td>0.446702</td>\n",
       "    </tr>\n",
       "  </tbody>\n",
       "</table>\n",
       "</div>"
      ],
      "text/plain": [
       "     name      map  recip_rank   P_10  ndcg_cut_10\n",
       "0  MonoT5  0.20841    0.670647  0.476     0.446702"
      ]
     },
     "execution_count": 9,
     "metadata": {},
     "output_type": "execute_result"
    }
   ],
   "source": [
    "pt.Experiment(\n",
    "    [mono_pipeline],\n",
    "    ds1_wapo.get_topics('title'),\n",
    "    ds1_wapo.get_qrels(),\n",
    "    eval_metrics=[\"map\", \"recip_rank\", \"P_10\", \"ndcg_cut_10\"],\n",
    "    names=[\"MonoT5\"],\n",
    "    verbose=True\n",
    ")"
   ]
  },
  {
   "cell_type": "code",
   "execution_count": null,
   "metadata": {},
   "outputs": [],
   "source": [
    "pt.Experiment(\n",
    "    [mono_pipeline_500],\n",
    "    ds1_wapo.get_topics('title'),\n",
    "    ds1_wapo.get_qrels(),\n",
    "    eval_metrics=[\"map\", \"recip_rank\", \"P_10\", \"ndcg_cut_10\"],\n",
    "    names=[\"MonoT5\"],\n",
    "    verbose=True\n",
    ")"
   ]
  },
  {
   "cell_type": "code",
   "execution_count": 10,
   "metadata": {},
   "outputs": [
    {
     "data": {
      "text/html": [
       "<div>\n",
       "<style scoped>\n",
       "    .dataframe tbody tr th:only-of-type {\n",
       "        vertical-align: middle;\n",
       "    }\n",
       "\n",
       "    .dataframe tbody tr th {\n",
       "        vertical-align: top;\n",
       "    }\n",
       "\n",
       "    .dataframe thead th {\n",
       "        text-align: right;\n",
       "    }\n",
       "</style>\n",
       "<table border=\"1\" class=\"dataframe\">\n",
       "  <thead>\n",
       "    <tr style=\"text-align: right;\">\n",
       "      <th></th>\n",
       "      <th>qid</th>\n",
       "      <th>docid</th>\n",
       "      <th>docno</th>\n",
       "      <th>rank</th>\n",
       "      <th>score</th>\n",
       "      <th>query</th>\n",
       "    </tr>\n",
       "  </thead>\n",
       "  <tbody>\n",
       "    <tr>\n",
       "      <th>0</th>\n",
       "      <td>1</td>\n",
       "      <td>563223</td>\n",
       "      <td>f233ecdeb87a44a6aa9ac429999d2d4c</td>\n",
       "      <td>0</td>\n",
       "      <td>19.370159</td>\n",
       "      <td>women in parliament</td>\n",
       "    </tr>\n",
       "    <tr>\n",
       "      <th>1</th>\n",
       "      <td>1</td>\n",
       "      <td>486152</td>\n",
       "      <td>4a7c2970fd9bf65fe09c7cf46df7b06d</td>\n",
       "      <td>1</td>\n",
       "      <td>18.690675</td>\n",
       "      <td>women in parliament</td>\n",
       "    </tr>\n",
       "    <tr>\n",
       "      <th>2</th>\n",
       "      <td>1</td>\n",
       "      <td>486153</td>\n",
       "      <td>9171debc316e5e2782e0d2404ca7d09d</td>\n",
       "      <td>2</td>\n",
       "      <td>18.690675</td>\n",
       "      <td>women in parliament</td>\n",
       "    </tr>\n",
       "    <tr>\n",
       "      <th>3</th>\n",
       "      <td>1</td>\n",
       "      <td>352722</td>\n",
       "      <td>34d443eec1add515a2fbc4af2c8a3a57</td>\n",
       "      <td>3</td>\n",
       "      <td>18.372576</td>\n",
       "      <td>women in parliament</td>\n",
       "    </tr>\n",
       "    <tr>\n",
       "      <th>4</th>\n",
       "      <td>1</td>\n",
       "      <td>546574</td>\n",
       "      <td>f1ab493726e1e6f5dd90615d5a1b58b8</td>\n",
       "      <td>4</td>\n",
       "      <td>18.340060</td>\n",
       "      <td>women in parliament</td>\n",
       "    </tr>\n",
       "    <tr>\n",
       "      <th>...</th>\n",
       "      <td>...</td>\n",
       "      <td>...</td>\n",
       "      <td>...</td>\n",
       "      <td>...</td>\n",
       "      <td>...</td>\n",
       "      <td>...</td>\n",
       "    </tr>\n",
       "    <tr>\n",
       "      <th>195</th>\n",
       "      <td>1</td>\n",
       "      <td>351935</td>\n",
       "      <td>a64ab05765cb2b25a6f18c03b20f5a3a</td>\n",
       "      <td>195</td>\n",
       "      <td>13.074723</td>\n",
       "      <td>women in parliament</td>\n",
       "    </tr>\n",
       "    <tr>\n",
       "      <th>196</th>\n",
       "      <td>1</td>\n",
       "      <td>351936</td>\n",
       "      <td>8d0f44ec22604cd5c08d74fc8ffa7cf4</td>\n",
       "      <td>196</td>\n",
       "      <td>13.074723</td>\n",
       "      <td>women in parliament</td>\n",
       "    </tr>\n",
       "    <tr>\n",
       "      <th>197</th>\n",
       "      <td>1</td>\n",
       "      <td>351954</td>\n",
       "      <td>56b94f8fd53b63608931a373f813b7b1</td>\n",
       "      <td>197</td>\n",
       "      <td>13.074421</td>\n",
       "      <td>women in parliament</td>\n",
       "    </tr>\n",
       "    <tr>\n",
       "      <th>198</th>\n",
       "      <td>1</td>\n",
       "      <td>305768</td>\n",
       "      <td>583e232f566fe972d5d1c1e5652bbb75</td>\n",
       "      <td>198</td>\n",
       "      <td>13.058146</td>\n",
       "      <td>women in parliament</td>\n",
       "    </tr>\n",
       "    <tr>\n",
       "      <th>199</th>\n",
       "      <td>1</td>\n",
       "      <td>22535</td>\n",
       "      <td>0faed48e-c914-11e1-8d21-45ee617a712a</td>\n",
       "      <td>199</td>\n",
       "      <td>13.049378</td>\n",
       "      <td>women in parliament</td>\n",
       "    </tr>\n",
       "  </tbody>\n",
       "</table>\n",
       "<p>200 rows × 6 columns</p>\n",
       "</div>"
      ],
      "text/plain": [
       "    qid   docid                                 docno  rank      score  \\\n",
       "0     1  563223      f233ecdeb87a44a6aa9ac429999d2d4c     0  19.370159   \n",
       "1     1  486152      4a7c2970fd9bf65fe09c7cf46df7b06d     1  18.690675   \n",
       "2     1  486153      9171debc316e5e2782e0d2404ca7d09d     2  18.690675   \n",
       "3     1  352722      34d443eec1add515a2fbc4af2c8a3a57     3  18.372576   \n",
       "4     1  546574      f1ab493726e1e6f5dd90615d5a1b58b8     4  18.340060   \n",
       "..   ..     ...                                   ...   ...        ...   \n",
       "195   1  351935      a64ab05765cb2b25a6f18c03b20f5a3a   195  13.074723   \n",
       "196   1  351936      8d0f44ec22604cd5c08d74fc8ffa7cf4   196  13.074723   \n",
       "197   1  351954      56b94f8fd53b63608931a373f813b7b1   197  13.074421   \n",
       "198   1  305768      583e232f566fe972d5d1c1e5652bbb75   198  13.058146   \n",
       "199   1   22535  0faed48e-c914-11e1-8d21-45ee617a712a   199  13.049378   \n",
       "\n",
       "                   query  \n",
       "0    women in parliament  \n",
       "1    women in parliament  \n",
       "2    women in parliament  \n",
       "3    women in parliament  \n",
       "4    women in parliament  \n",
       "..                   ...  \n",
       "195  women in parliament  \n",
       "196  women in parliament  \n",
       "197  women in parliament  \n",
       "198  women in parliament  \n",
       "199  women in parliament  \n",
       "\n",
       "[200 rows x 6 columns]"
      ]
     },
     "execution_count": 10,
     "metadata": {},
     "output_type": "execute_result"
    }
   ],
   "source": [
    "bm25.search(\"women in parliament\")"
   ]
  },
  {
   "cell_type": "code",
   "execution_count": 9,
   "metadata": {},
   "outputs": [
    {
     "name": "stderr",
     "output_type": "stream",
     "text": [
      "monoT5: 100%|██████████| 1/1 [00:21<00:00, 21.10s/batches]\n"
     ]
    }
   ],
   "source": [
    "res = mono_pipeline_50.search(\"women in parliament\")"
   ]
  },
  {
   "cell_type": "code",
   "execution_count": null,
   "metadata": {},
   "outputs": [],
   "source": [
    "pt.Experiment(\n",
    "    [mono_pipeline_50\n",
    "    ],\n",
    "    ds1_wapo.get_topics('title')[:2],\n",
    "    ds1_wapo.get_qrels(),\n",
    "    eval_metrics=[\"map\", \"recip_rank\", \"P_10\", \"ndcg_cut_10\"],\n",
    "    names=[\"MonoT5\"],\n",
    "    verbose=True\n",
    ")"
   ]
  },
  {
   "cell_type": "code",
   "execution_count": 16,
   "metadata": {},
   "outputs": [],
   "source": [
    "import pickle"
   ]
  },
  {
   "cell_type": "code",
   "execution_count": 52,
   "metadata": {},
   "outputs": [],
   "source": [
    "topic_path = f\"workspace/data/wapo/wapo_topics.pkl\"\n",
    "topics = pickle.load(open(topic_path, \"rb\"))"
   ]
  },
  {
   "cell_type": "code",
   "execution_count": 65,
   "metadata": {},
   "outputs": [],
   "source": [
    "#generate list of low signal terms from desription/narrative\n",
    "\n",
    "all_terms = []\n",
    "\n",
    "for i, row in topics.iterrows():\n",
    "    all_terms += row['description'].split(\" \")\n",
    "    all_terms += row['narrative'].split(\" \")\n",
    "\n",
    "from collections import Counter\n",
    "\n",
    "cnt_list = Counter(all_terms)\n",
    "cnt_list = {k:v for k, v in sorted(cnt_list.items(), key=lambda item: -item[1])}"
   ]
  },
  {
   "cell_type": "code",
   "execution_count": 71,
   "metadata": {},
   "outputs": [],
   "source": [
    "\n"
   ]
  },
  {
   "cell_type": "code",
   "execution_count": null,
   "metadata": {},
   "outputs": [],
   "source": [
    "cnt_list"
   ]
  },
  {
   "cell_type": "code",
   "execution_count": 41,
   "metadata": {},
   "outputs": [],
   "source": [
    "terms_description = set(a['description'][0].split(\" \"))\n",
    "terms_narrative = set(a['narrative'][0].split(\" \"))\n",
    "terms_narrative.union(terms_description)"
   ]
  },
  {
   "cell_type": "code",
   "execution_count": null,
   "metadata": {},
   "outputs": [],
   "source": [
    "terms_narrative.union(terms_description)"
   ]
  },
  {
   "cell_type": "code",
   "execution_count": 3,
   "metadata": {},
   "outputs": [],
   "source": [
    "# generate user for sim config\n",
    "\n",
    "user_xmls = sorted(glob.glob(\"/workspace/sims/users/*\"))"
   ]
  },
  {
   "cell_type": "code",
   "execution_count": 5,
   "metadata": {},
   "outputs": [
    {
     "name": "stdout",
     "output_type": "stream",
     "text": [
      "<user configurationFile=\"/workspace/sims/users/d2q++_perfect_10rpp_wapo.xml\"/>\n",
      "<user configurationFile=\"/workspace/sims/users/d2q+_perfect_10rpp_wapo.xml\"/>\n",
      "<user configurationFile=\"/workspace/sims/users/d2q_perfect_10rpp_wapo.xml\"/>\n",
      "<user configurationFile=\"/workspace/sims/users/gpt*_perfect_10rpp_wapo.xml\"/>\n",
      "<user configurationFile=\"/workspace/sims/users/gpt+_almostrandom_10rpp_wapo.xml\"/>\n",
      "<user configurationFile=\"/workspace/sims/users/gpt+_informational_10rpp_wapo.xml\"/>\n",
      "<user configurationFile=\"/workspace/sims/users/gpt+_navigational_10rpp_wapo.xml\"/>\n",
      "<user configurationFile=\"/workspace/sims/users/gpt+_perfect_10rpp_wapo.xml\"/>\n",
      "<user configurationFile=\"/workspace/sims/users/gpt+_perfect_t100nr_wapo.xml\"/>\n",
      "<user configurationFile=\"/workspace/sims/users/gpt+_perfect_t150nr_wapo.xml\"/>\n",
      "<user configurationFile=\"/workspace/sims/users/gpt+_perfect_t50nr_wapo.xml\"/>\n",
      "<user configurationFile=\"/workspace/sims/users/gpt_perfect_10rpp_wapo.xml\"/>\n"
     ]
    }
   ],
   "source": [
    "for user_xml in user_xmls:\n",
    "    if 'nyt' in user_xml in user_xml:\n",
    "        print(f\"<user configurationFile=\\\"{user_xml}\\\"/>\")"
   ]
  },
  {
   "cell_type": "code",
   "execution_count": 86,
   "metadata": {},
   "outputs": [],
   "source": [
    "# generate gpt* queries (query variation only over the last term)\n",
    "\n",
    "gpt_p_lines = open(\"/workspace/data/nyt/gpt+.txt\", \"r\").read().split(\"\\n\")\n",
    "gpt_p = [line.split(\",\")[-1] for line in gpt_p_lines]\n",
    "\n",
    "gpt_p_terms = set(\" \".join(gpt_p).split(\" \"))"
   ]
  },
  {
   "cell_type": "code",
   "execution_count": 87,
   "metadata": {},
   "outputs": [],
   "source": [
    "from workspace.simiir.query_generators.utils import IdfProvider, get_stopwords, filter_keywords\n",
    "import random"
   ]
  },
  {
   "cell_type": "code",
   "execution_count": 88,
   "metadata": {},
   "outputs": [],
   "source": [
    "idf_provider = IdfProvider(index_path=\"/app/indices/nyt/data.properties\", stopwords=get_stopwords())"
   ]
  },
  {
   "cell_type": "code",
   "execution_count": 91,
   "metadata": {},
   "outputs": [],
   "source": [
    "def generate_gpt_canidate_terms(t_id, gpt_p_lines, idf_provider):\n",
    "    t_id_terms = []\n",
    "\n",
    "    for line in gpt_p_lines:\n",
    "        parts = line.split(\",\")\n",
    "        if parts[2] == t_id:\n",
    "            t_id_terms += parts[3].split(\" \")\n",
    "\n",
    "    t_id_terms = list(set(filter_keywords(idf_provider, t_id_terms)))\n",
    "\n",
    "    random.shuffle(t_id_terms)\n",
    "    \n",
    "    return t_id_terms"
   ]
  },
  {
   "cell_type": "code",
   "execution_count": null,
   "metadata": {},
   "outputs": [],
   "source": [
    "generate_gpt_canidate_terms(\"321\", gpt_p_lines, idf_provider)"
   ]
  },
  {
   "cell_type": "code",
   "execution_count": 93,
   "metadata": {},
   "outputs": [],
   "source": [
    "seed_queries = open(\"workspace/data/nyt/title_queries\", \"r\").read().split(\"\\n\")"
   ]
  },
  {
   "cell_type": "code",
   "execution_count": 94,
   "metadata": {},
   "outputs": [],
   "source": [
    "gpt_s_queries = \"\"\n",
    "\n",
    "for query in seed_queries:\n",
    "    gpt_s_queries += query + \"\\n\"\n",
    "    parts = query.split(\",\")\n",
    "    candidate_terms = generate_gpt_canidate_terms(parts[2], gpt_p_lines, idf_provider)\n",
    "    for i in range(2,101):\n",
    "        if i >= len(candidate_terms):\n",
    "            r_index = random.randrange(0, len(candidate_terms))\n",
    "            line = f\"{i},1,{parts[2]},{parts[-1]} {candidate_terms[r_index]}\\n\"\n",
    "        else:\n",
    "            line = f\"{i},1,{parts[2]},{parts[-1]} {candidate_terms[i-2]}\\n\"\n",
    "        gpt_s_queries += line"
   ]
  },
  {
   "cell_type": "code",
   "execution_count": 95,
   "metadata": {},
   "outputs": [],
   "source": [
    "with open(\"workspace/data/nyt/gpt*.txt\", \"w\") as f:\n",
    "    f.write(gpt_s_queries)"
   ]
  },
  {
   "cell_type": "code",
   "execution_count": 74,
   "metadata": {},
   "outputs": [
    {
     "data": {
      "text/plain": [
       "5"
      ]
     },
     "execution_count": 74,
     "metadata": {},
     "output_type": "execute_result"
    }
   ],
   "source": []
  },
  {
   "cell_type": "code",
   "execution_count": null,
   "metadata": {},
   "outputs": [],
   "source": []
  }
 ],
 "metadata": {
  "kernelspec": {
   "display_name": "Python 3",
   "language": "python",
   "name": "python3"
  },
  "language_info": {
   "codemirror_mode": {
    "name": "ipython",
    "version": 3
   },
   "file_extension": ".py",
   "mimetype": "text/x-python",
   "name": "python",
   "nbconvert_exporter": "python",
   "pygments_lexer": "ipython3",
   "version": "3.8.17"
  },
  "orig_nbformat": 4
 },
 "nbformat": 4,
 "nbformat_minor": 2
}
