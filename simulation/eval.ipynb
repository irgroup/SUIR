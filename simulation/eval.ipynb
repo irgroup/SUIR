{
 "cells": [
  {
   "cell_type": "code",
   "execution_count": 64,
   "metadata": {},
   "outputs": [
    {
     "name": "stdout",
     "output_type": "stream",
     "text": [
      "number of log files: 1850\n"
     ]
    }
   ],
   "source": [
    "import glob\n",
    "import pandas as pd\n",
    "def get_log_props(log_path):\n",
    "    parts = log_path.split('-')\n",
    "    if len(parts) > 5:\n",
    "        topic = parts[1]\n",
    "        depth = parts[2].split('user')[-1]\n",
    "        modality = parts[3]\n",
    "        strat = parts[4]\n",
    "        prob = parts[5].split(\".\")[0]\n",
    "\n",
    "        return (topic, depth, modality, strat, prob)\n",
    "    else:\n",
    "        return \n",
    "\n",
    "\n",
    "corpus = \"wapo\"\n",
    "\n",
    "log_root_path = \"workspace/sims/output/\"\n",
    "#load all logs\n",
    "log_files = glob.glob(f\"{log_root_path}{corpus}*.log\")\n",
    "topics = set()\n",
    "depths = set()\n",
    "modalities  = set()\n",
    "strats = set()\n",
    "probs = set()\n",
    "\n",
    "log_cnt = 0\n",
    "\n",
    "log_df = pd.DataFrame(columns=['Depth', 'Modality', 'Strat', 'Probability', 'Topics'])\n",
    "\n",
    "for path in log_files:\n",
    "    res = get_log_props(path)\n",
    "\n",
    "    if res:\n",
    "        log_cnt +=1\n",
    "        topic, depth, modality, strat, prob = res\n",
    "        topics.add(topic)\n",
    "        depths.add(depth)\n",
    "        modalities.add(modality)\n",
    "        strats.add(strat)\n",
    "        probs.add(prob)\n",
    "\n",
    "        row = {'Depth' : depth, 'Modality': modality, 'Strat' : strat, 'Probability' : prob,  'Topics' : topic}\n",
    "        log_df = pd.concat([log_df, pd.DataFrame([row])])\n",
    "\n",
    "\n",
    "print(f\"number of log files: {log_cnt}\")\n"
   ]
  },
  {
   "attachments": {},
   "cell_type": "markdown",
   "metadata": {},
   "source": [
    "# Evaluations"
   ]
  },
  {
   "attachments": {},
   "cell_type": "markdown",
   "metadata": {},
   "source": [
    "## Modalities"
   ]
  },
  {
   "attachments": {},
   "cell_type": "markdown",
   "metadata": {},
   "source": [
    "### sDCG "
   ]
  },
  {
   "cell_type": "code",
   "execution_count": 65,
   "metadata": {},
   "outputs": [],
   "source": [
    "topics = list(set([int(log.split('-')[2]) for log in log_files]))"
   ]
  },
  {
   "cell_type": "code",
   "execution_count": 66,
   "metadata": {},
   "outputs": [],
   "source": [
    "topics_to_analyze = topics"
   ]
  },
  {
   "attachments": {},
   "cell_type": "markdown",
   "metadata": {},
   "source": [
    "### Effort vs. Effect"
   ]
  },
  {
   "attachments": {},
   "cell_type": "markdown",
   "metadata": {},
   "source": [
    "## Depth evaluation"
   ]
  },
  {
   "attachments": {},
   "cell_type": "markdown",
   "metadata": {},
   "source": [
    "### sDCG"
   ]
  },
  {
   "attachments": {},
   "cell_type": "markdown",
   "metadata": {},
   "source": [
    "### Effort vs. Effect"
   ]
  },
  {
   "cell_type": "code",
   "execution_count": 67,
   "metadata": {},
   "outputs": [
    {
     "data": {
      "image/png": "[encoded data removed]",
      "text/plain": [
       "<Figure size 400x400 with 1 Axes>"
      ]
     },
     "metadata": {},
     "output_type": "display_data"
    }
   ],
   "source": [
    "import math\n",
    "import pandas as pd\n",
    "import matplotlib.pyplot as plt\n",
    "import seaborn as sns \n",
    "sns.set_style('darkgrid')\n",
    "\n",
    "\n",
    "qrels_path = f\"workspace/data/{corpus}/{corpus}_qrels\"\n",
    "\n",
    "\n",
    "qrels = {}\n",
    "with open(qrels_path) as f_in:\n",
    "    for line in f_in.readlines():\n",
    "        parts = line.split(' ')\n",
    "        qrels[(parts[0],parts[2])] = parts[3]\n",
    "\n",
    "depth_eval = {}\n",
    "gain_all = {}\n",
    "\n",
    "q_strats = ['GPT+', 'GPT*', \"D2Q\", \"D2Q+\", \"D2Q++\", 'GPT']\n",
    "snippets = [\"perfect\", \"navigational\", \"informational\", \"almostrandom\"]\n",
    "stop_decs = ['10rpp', 't50nr', 't100nr', 't150nr']\n",
    "models = ['bm25', 'monoT5']\n",
    "\n",
    "\n",
    "q_strat = q_strats[5]\n",
    "model = models[0]\n",
    "stop_dec = stop_decs[0]\n",
    "snippet = snippets[0]\n",
    "\n",
    "\n",
    "depths = models\n",
    "\n",
    "for depth in depths:\n",
    "\n",
    "    for topic in topics_to_analyze:\n",
    "        \n",
    "        log_path = log_root_path + f\"{corpus}\" +\"-\"+ depth + \"-\" + str(topic) + \"-\" + q_strat + \"-\"+ snippet + \"-\"  + stop_dec+ \".log\"\n",
    "        query_logs = {}\n",
    "                    \n",
    "        query = ''\n",
    "        results = []\n",
    "        \n",
    "        _gain = 0\n",
    "        gain = {}                \n",
    "        with open(log_path) as f_in:\n",
    "\n",
    "            for line in f_in.readlines():\n",
    "                logs = line.split(' ')\n",
    "                \n",
    "                if len(logs) > 4 and logs[0] == 'ACTION':\n",
    "\n",
    "                    if logs[1] == 'MARK' and logs[4] == 'CONSIDERED_RELEVANT':\n",
    "                        result = logs[-1].replace(\"b'\", \"\").replace(\"'\", \"\").strip('\\n')\n",
    "                        if qrels.get((str(topic),result)):\n",
    "                            _gain += int(qrels.get((str(topic),result)))\n",
    "                    if True or int(logs[3]) < 300:\n",
    "                        gain[int(logs[3])] = _gain\n",
    "        gain_all[topic] = gain\n",
    "    depth_eval[depth] = pd.DataFrame.from_dict(gain_all).sort_index().fillna(method='ffill').T.mean().to_dict()\n",
    "pd.DataFrame.from_dict(depth_eval).sort_index().fillna(method='ffill').plot(xlabel='Effort', ylabel='Effect', figsize=(4,4))\n",
    "\n",
    "#ax = plt.gcf().axes[0]\n",
    "#lines = ax.get_lines()\n",
    "#for line in lines:\n",
    "#    print(line.get_color())\n",
    "    \n",
    "\n",
    "#lines[0].set_color(\"#d62728\") \n",
    "#lines[3].set_color(\"#1f77b4\") \n",
    "\n",
    "#plt.legend()\n",
    "\n",
    "aspects = [q_strat, model, stop_dec, corpus]\n",
    "fig_name = f'/workspace/figures/effort.effect.'\n",
    "for aspect in aspects:\n",
    "    if aspect not in depths:\n",
    "        fig_name += f\"{aspect}.\"\n",
    "    else:\n",
    "        fig_name += \".\".join(depths) + \".\"\n",
    "\n",
    "fig_name += \"pdf\"\n",
    "plt.savefig(fig_name, bbox_inches=\"tight\")\n",
    "plt.show()"
   ]
  },
  {
   "cell_type": "code",
   "execution_count": 68,
   "metadata": {},
   "outputs": [
    {
     "data": {
      "image/png": "[encoded data removed]",
      "text/plain": [
       "<Figure size 400x400 with 1 Axes>"
      ]
     },
     "metadata": {},
     "output_type": "display_data"
    }
   ],
   "source": [
    "import math\n",
    "import pandas as pd\n",
    "import matplotlib.pyplot as plt\n",
    "import seaborn as sns \n",
    "sns.set_style('darkgrid')\n",
    "\n",
    "qrels_path = f\"workspace/data/{corpus}/{corpus}_qrels\"\n",
    "\n",
    "qrels = {}\n",
    "with open(qrels_path) as f_in:\n",
    "    for line in f_in.readlines():\n",
    "        parts = line.split(' ')\n",
    "        qrels[(parts[0],parts[2])] = parts[3]\n",
    "\n",
    "def dcg(results, topic):\n",
    "    _dcg = 0\n",
    "    for i,result in enumerate(results):\n",
    "        _doc = qrels.get((str(topic),result))\n",
    "        \n",
    "        if _doc is not None:\n",
    "            _dcg += int(_doc) / (1 + math.log(i+1, b))\n",
    "\n",
    "    return _dcg\n",
    "\n",
    "b = 2\n",
    "bq = 4\n",
    "\n",
    "depth_eval = {}\n",
    "gain_all = {}\n",
    "\n",
    "depths = models\n",
    "\n",
    "for depth in depths:\n",
    "    for topic in topics_to_analyze:\n",
    "\n",
    "        log_path = log_root_path + f\"{corpus}\" +\"-\"+ depth + \"-\" + str(topic) + \"-\" + q_strat + \"-\"+ snippet + \"-\"  + stop_dec +\".log\"\n",
    "        query_logs = {}\n",
    "\n",
    "        query = ''\n",
    "        results = []\n",
    "                        \n",
    "        with open(log_path) as f_in:\n",
    "\n",
    "            for line in f_in.readlines():\n",
    "                logs = line.split(' ')\n",
    "\n",
    "                if logs[1] == 'QUERY':\n",
    "                    if len(query) > 0:\n",
    "                        query_logs[query] = results\n",
    "                    results = []\n",
    "                    query = ' '.join(logs[4:]).strip('\\n')\n",
    "                    \n",
    "                if logs[1] == 'MARK' and logs[4] == 'CONSIDERED_RELEVANT':\n",
    "                    results.append(logs[-1].replace(\"b'\", \"\").replace(\"'\", \"\").strip('\\n'))      \n",
    "\n",
    "        gain = {}\n",
    "        _gain = 0.0\n",
    "\n",
    "        for q, query in enumerate(query_logs.keys()):\n",
    "            results = query_logs.get(query)    \n",
    "            _gain += dcg(results, topic) / (1 + math.log(q + 1, bq))\n",
    "            gain[q+1] = _gain\n",
    "\n",
    "        gain_all[topic] = gain\n",
    "    depth_eval[depth] = pd.DataFrame.from_dict(gain_all).sort_index().fillna(method='ffill').T.mean().to_dict()\n",
    "pd.DataFrame.from_dict(depth_eval).sort_index().fillna(method='ffill').plot(xlabel='Queries', ylabel='sDCG', figsize=(4,4))\n",
    "\n",
    "aspects = [q_strat, model, stop_dec, corpus]\n",
    "fig_name = f'/workspace/figures/sDCG.'\n",
    "for aspect in aspects:\n",
    "    if aspect not in depths:\n",
    "        fig_name += f\"{aspect}.\"\n",
    "    else:\n",
    "        fig_name += \".\".join(depths)+ \".\"\n",
    "\n",
    "fig_name += \"pdf\"\n",
    "plt.savefig(fig_name, bbox_inches=\"tight\") \n",
    "plt.show()"
   ]
  },
  {
   "cell_type": "markdown",
   "metadata": {},
   "source": [
    "sRBP"
   ]
  },
  {
   "cell_type": "code",
   "execution_count": 69,
   "metadata": {},
   "outputs": [
    {
     "data": {
      "image/png": "[encoded data removed]",
      "text/plain": [
       "<Figure size 400x400 with 1 Axes>"
      ]
     },
     "metadata": {},
     "output_type": "display_data"
    }
   ],
   "source": [
    "import math\n",
    "import pandas as pd\n",
    "import matplotlib.pyplot as plt\n",
    "import seaborn as sns \n",
    "sns.set_style('darkgrid')\n",
    "\n",
    "qrels_path = f\"workspace/data/{corpus}/{corpus}_qrels\"\n",
    "qrels = {}\n",
    "with open(qrels_path) as f_in:\n",
    "    for line in f_in.readlines():\n",
    "        parts = line.split(' ')\n",
    "        qrels[(parts[0],parts[2])] = parts[3]\n",
    "\n",
    "p_srbp = 0.99\n",
    "b_srbp = 0.6\n",
    "\n",
    "# Discount function\n",
    "def d_srbp(b, p, m, n):\n",
    "    def spow(base, exp):\n",
    "        if base == 0 and exp == 0:\n",
    "            return 1.0\n",
    "        else:\n",
    "            return base**exp\n",
    "        \n",
    "    if b == 1.0 and p == 1.0:\n",
    "        if m == 0:\n",
    "            return spow(b*p, n)\n",
    "        else:\n",
    "            return 0.0\n",
    "    \n",
    "    else:\n",
    "        return spow((p - b*p)/(1.0 - b*p), m)*spow(b*p, n)\n",
    "# b: balance parameter (balances between reformulating queries and examining more documents)\n",
    "# p: persistence parameter (persistence of users in continuing search)\n",
    "# m: reformulation\n",
    "# n: document rank\n",
    "\n",
    "def s_rbp(b, p, log_path, topic, qrels):\n",
    "    res = 0.0\n",
    "    n = 0\n",
    "    m = 0\n",
    "    \n",
    "    query_rbp = {}\n",
    "\n",
    "    with open(log_path) as f_in:\n",
    "\n",
    "        for line in f_in.readlines():\n",
    "            logs = line.split(' ')\n",
    "\n",
    "            if logs[1] == 'QUERY': # new query, increase reformulation count\n",
    "                query_rbp[m] = (1-p)*res # sRBP after each query\n",
    "                m += 1\n",
    "                n = 0\n",
    "            \n",
    "            elif logs[1] == 'SNIPPET': # showing new document from the ranking, increase rank count; DOCUMENT is not relevant here because it is just repeated after SNIPPET\n",
    "                n += 1\n",
    "                                \n",
    "            elif logs[1] == 'MARK' and logs[4] == 'CONSIDERED_RELEVANT': # add d_srbp value for relevant document to the result\n",
    "                if qrels.get((str(topic),logs[5].replace(\"b'\", \"\").replace(\"'\", \"\").strip('\\n'))):\n",
    "                    if int(qrels.get((str(topic),logs[5].replace(\"b'\", \"\").replace(\"'\", \"\").strip('\\n')))) > 0:\n",
    "                        res += d_srbp(b, p, m, n)\n",
    "                        #print('dsrbp: ' + str(d_srbp(b,p,m,n)))\n",
    "                        #print('res: ' + str(res))\n",
    "\n",
    "    return (1-p)*res, query_rbp\n",
    "\n",
    "qrels = {}\n",
    "with open(qrels_path) as f_in:\n",
    "    for line in f_in.readlines():\n",
    "        parts = line.split(' ')\n",
    "        qrels[(parts[0],parts[2])] = parts[3]\n",
    "\n",
    "depth_eval = {}\n",
    "gain_all = {}\n",
    "\n",
    "\n",
    "depths = models\n",
    "\n",
    "for depth in depths:\n",
    "    for topic in topics_to_analyze:\n",
    "\n",
    "        log_path = log_root_path + f\"{corpus}\" +\"-\"+ depth + \"-\" + str(topic) + \"-\" + q_strat + \"-\"+ snippet + \"-\"  +  stop_dec +\".log\"\n",
    "        query_logs = {}\n",
    "\n",
    "        query = ''\n",
    "        results = []\n",
    "                        \n",
    "        with open(log_path) as f_in:\n",
    "            srbp = s_rbp(b_srbp, p_srbp, log_path, topic, qrels)[1]\n",
    "\n",
    "        gain_all[topic] = srbp\n",
    "    depth_eval[depth] = pd.DataFrame.from_dict(gain_all).sort_index().fillna(method='ffill').T.mean().to_dict()\n",
    "pd.DataFrame.from_dict(depth_eval).sort_index().fillna(method='ffill').plot(xlabel='Queries', ylabel='sRBP', figsize=(4,4))\n",
    "\n",
    "aspects = [q_strat, model, stop_dec, corpus]\n",
    "fig_name = f'/workspace/figures/sRBP.'\n",
    "for aspect in aspects:\n",
    "    if aspect not in depths:\n",
    "        fig_name += f\"{aspect}.\"\n",
    "    else:\n",
    "        fig_name += \".\".join(depths) + \".\"\n",
    "\n",
    "fig_name += \"pdf\"\n",
    "plt.savefig(fig_name, bbox_inches=\"tight\")\n",
    "plt.show()\n"
   ]
  },
  {
   "cell_type": "markdown",
   "metadata": {},
   "source": []
  },
  {
   "attachments": {},
   "cell_type": "markdown",
   "metadata": {},
   "source": [
    "## Browsing behavior"
   ]
  },
  {
   "attachments": {},
   "cell_type": "markdown",
   "metadata": {},
   "source": [
    "### sDCG"
   ]
  },
  {
   "attachments": {},
   "cell_type": "markdown",
   "metadata": {},
   "source": [
    "### Effort vs. Effect"
   ]
  },
  {
   "cell_type": "code",
   "execution_count": null,
   "metadata": {},
   "outputs": [],
   "source": [
    "df_types = {}\n",
    "\n",
    "for type in query_types:\n",
    "    query_df = pd.DataFrame.from_dict(query_type_eval_all[type], orient=\"index\").stack().to_frame()\n",
    "    query_df = pd.DataFrame(query_df[0].values.tolist(), index=query_df.index).reset_index(names=['topic', 'query'])\n",
    "    query_df = query_df.rename(columns={0: 'gain'})\n",
    "    query_df = query_df[query_df.apply(lambda row: row['query'] <=50, axis=1)]\n",
    "    df_types[type] = query_df\n",
    "\n",
    "sns.lineplot(data=df_types['d2qfeedback'], x='query', y='gain', label=\"doc2query feedback\")\n",
    "sns.lineplot(data=df_types['d2qNofeedback'], x='query', y='gain',  label=\"doc2query no feedback\")\n",
    "sns.lineplot(data=df_types['gpt'], x='query', y='gain', label=\"gpt\")\n",
    "#plt.legend(loc=\"upper left\")"
   ]
  }
 ],
 "metadata": {
  "kernelspec": {
   "display_name": "cikm23",
   "language": "python",
   "name": "python3"
  },
  "language_info": {
   "codemirror_mode": {
    "name": "ipython",
    "version": 3
   },
   "file_extension": ".py",
   "mimetype": "text/x-python",
   "name": "python",
   "nbconvert_exporter": "python",
   "pygments_lexer": "ipython3",
   "version": "3.8.17"
  },
  "orig_nbformat": 4
 },
 "nbformat": 4,
 "nbformat_minor": 2
}
