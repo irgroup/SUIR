{
 "cells": [
  {
   "cell_type": "code",
   "execution_count": 1,
   "metadata": {},
   "outputs": [],
   "source": [
    "import glob\n",
    "import pickle\n",
    "from tqdm import tqdm\n",
    "\n",
    "from sqlalchemy import Column, Integer, String, Date, Text, ARRAY, FLOAT\n",
    "\n",
    "from sqlalchemy import create_engine\n",
    "from sqlalchemy.orm import sessionmaker\n",
    "from sqlalchemy.ext.declarative import declarative_base\n",
    "\n",
    "from db_utils import WapoQueries, WapoDocEmbeddings, gen_session, refresh_db, get_wapo_doc2query, get_wapo_emb"
   ]
  },
  {
   "cell_type": "code",
   "execution_count": 2,
   "metadata": {},
   "outputs": [],
   "source": [
    "! createdb -h postgres doc2queries"
   ]
  },
  {
   "cell_type": "code",
   "execution_count": 3,
   "metadata": {},
   "outputs": [],
   "source": [
    "server_address = 'postgresql://root@postgres:5432/'"
   ]
  },
  {
   "cell_type": "code",
   "execution_count": 4,
   "metadata": {},
   "outputs": [],
   "source": [
    "session = gen_session(server_address=server_address, db_name=\"doc2queries\")"
   ]
  },
  {
   "cell_type": "code",
   "execution_count": 5,
   "metadata": {},
   "outputs": [
    {
     "name": "stderr",
     "output_type": "stream",
     "text": [
      "/tmp/ipykernel_10930/4196137762.py:1: MovedIn20Warning: The ``declarative_base()`` function is now available as sqlalchemy.orm.declarative_base(). (deprecated since: 2.0) (Background on SQLAlchemy 2.0 at: https://sqlalche.me/e/b8d9)\n",
      "  Base = declarative_base()\n"
     ]
    }
   ],
   "source": [
    "Base = declarative_base()"
   ]
  },
  {
   "cell_type": "code",
   "execution_count": 6,
   "metadata": {},
   "outputs": [],
   "source": [
    "#define tables\n",
    "class WapoDoc2Qeury(Base):\n",
    "    __tablename__ = 'wapo_doc2queries'\n",
    "    docno = Column(String, primary_key=True)\n",
    "    querygen = Column(ARRAY(Text))\n",
    "\n",
    "    def __repr__(self):\n",
    "        repr_str = f\"docno={self.docno}, query={self.querygen}\"\n",
    "        return repr_str\n",
    "\n",
    "class NytDoc2Qeury(Base):\n",
    "    __tablename__ = 'nyt_doc2queries'\n",
    "    docno = Column(String, primary_key=True)\n",
    "    querygen = Column(ARRAY(Text))\n",
    "\n",
    "    def __repr__(self):\n",
    "        repr_str = f\"docno={self.docno}, query={self.querygen}\"\n",
    "        return repr_str"
   ]
  },
  {
   "cell_type": "code",
   "execution_count": 7,
   "metadata": {},
   "outputs": [],
   "source": [
    "#create tables\n",
    "\n",
    "engine = create_engine(server_address + \"doc2queries\")\n",
    "Base.metadata.create_all(engine)"
   ]
  },
  {
   "cell_type": "code",
   "execution_count": 8,
   "metadata": {},
   "outputs": [],
   "source": [
    "d2q_paths_nyt = sorted(glob.glob(\"./workspace/data/d2qs_clean/nyt/*\"))\n",
    "d2q_paths_wapo = sorted(glob.glob(\"./workspace/data/d2qs_clean/wapo/*\"))"
   ]
  },
  {
   "cell_type": "code",
   "execution_count": 9,
   "metadata": {},
   "outputs": [
    {
     "name": "stderr",
     "output_type": "stream",
     "text": [
      "100%|██████████| 103/103 [02:23<00:00,  1.40s/it]\n"
     ]
    }
   ],
   "source": [
    "#fill tables with doc2queries\n",
    "\n",
    "with tqdm(total = len(d2q_paths_nyt)) as pbar:\n",
    "    for path in d2q_paths_nyt:\n",
    "        current_dic = pickle.load(open(path, \"rb\"))\n",
    "\n",
    "        for key, val in current_dic.items():\n",
    "            \n",
    "            session.add(NytDoc2Qeury(docno=key, querygen=val))\n",
    "\n",
    "        session.commit()\n",
    "        pbar.update()\n",
    "\n",
    "    session.close()"
   ]
  },
  {
   "cell_type": "code",
   "execution_count": 10,
   "metadata": {},
   "outputs": [
    {
     "name": "stderr",
     "output_type": "stream",
     "text": [
      "100%|██████████| 101/101 [00:44<00:00,  2.26it/s]\n"
     ]
    }
   ],
   "source": [
    "with tqdm(total = len(d2q_paths_wapo)) as pbar:\n",
    "    for path in d2q_paths_wapo:\n",
    "        current_dic = pickle.load(open(path, \"rb\"))\n",
    "\n",
    "        for key, val in current_dic.items():\n",
    "            \n",
    "            session.add(WapoDoc2Qeury(docno=key, querygen=val))\n",
    "\n",
    "        session.commit()\n",
    "        pbar.update()\n",
    "\n",
    "    session.close()"
   ]
  },
  {
   "cell_type": "code",
   "execution_count": null,
   "metadata": {},
   "outputs": [],
   "source": []
  }
 ],
 "metadata": {
  "kernelspec": {
   "display_name": "Python 3",
   "language": "python",
   "name": "python3"
  },
  "language_info": {
   "codemirror_mode": {
    "name": "ipython",
    "version": 3
   },
   "file_extension": ".py",
   "mimetype": "text/x-python",
   "name": "python",
   "nbconvert_exporter": "python",
   "pygments_lexer": "ipython3",
   "version": "3.8.16"
  },
  "orig_nbformat": 4
 },
 "nbformat": 4,
 "nbformat_minor": 2
}
