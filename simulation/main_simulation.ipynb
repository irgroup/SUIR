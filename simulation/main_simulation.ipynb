{
 "cells": [
  {
   "attachments": {},
   "cell_type": "markdown",
   "metadata": {},
   "source": [
    "Install packages"
   ]
  },
  {
   "attachments": {},
   "cell_type": "markdown",
   "metadata": {},
   "source": [
    "Add ifind"
   ]
  },
  {
   "cell_type": "code",
   "execution_count": 3,
   "metadata": {},
   "outputs": [],
   "source": [
    "import os\n",
    "os.environ['JAVA_HOME'] = '/usr/lib/jvm/java-17-openjdk-amd64/'\n",
    "os.environ['JVM_PATH'] = os.environ['JAVA_HOME'] + 'lib/server/libjvm.so'"
   ]
  },
  {
   "cell_type": "markdown",
   "metadata": {},
   "source": []
  },
  {
   "cell_type": "code",
   "execution_count": 4,
   "metadata": {},
   "outputs": [],
   "source": [
    "!export PYTHONPATH=\"${PYTHONPATH}:./ifind\"b"
   ]
  },
  {
   "attachments": {},
   "cell_type": "markdown",
   "metadata": {},
   "source": [
    "Prepare topics"
   ]
  },
  {
   "attachments": {},
   "cell_type": "markdown",
   "metadata": {},
   "source": [
    "Run simulations"
   ]
  },
  {
   "cell_type": "code",
   "execution_count": 4,
   "metadata": {},
   "outputs": [],
   "source": [
    "#!rm /workspace/sims/output/*"
   ]
  },
  {
   "cell_type": "code",
   "execution_count": null,
   "metadata": {},
   "outputs": [],
   "source": [
    "!cd workspace/simiir/ && python run_simiir.py ../sims/simulation_nyt_bm25.xml"
   ]
  },
  {
   "cell_type": "code",
   "execution_count": null,
   "metadata": {},
   "outputs": [],
   "source": [
    "!cd workspace/simiir/ && python run_simiir.py ../sims/simulation_nyt_monoT5.xml"
   ]
  },
  {
   "cell_type": "code",
   "execution_count": null,
   "metadata": {},
   "outputs": [],
   "source": [
    "!cd workspace/simiir/ && python run_simiir.py ../sims/simulation_wapo_bm25.xml"
   ]
  },
  {
   "cell_type": "code",
   "execution_count": null,
   "metadata": {},
   "outputs": [],
   "source": [
    "!cd workspace/simiir/ && python run_simiir.py ../sims/simulation_wapo_monoT5.xml"
   ]
  },
  {
   "cell_type": "code",
   "execution_count": 12,
   "metadata": {},
   "outputs": [
    {
     "name": "stdout",
     "output_type": "stream",
     "text": [
      "PyTerrier 0.9.2 has loaded Terrier 5.7 (built by craigm on 2022-11-10 18:30) and terrier-helper 0.0.7\n",
      "\n",
      "No etc/terrier.properties, using terrier.default.properties for bootstrap configuration.\n",
      "\u001b[H\u001b[2JSIMULATION 'wapo-bm25-321-GPT+-snipknowfulltf2-10rpp'\n",
      "  Simulation Configuration:\n",
      "    Topic: 321\n",
      "    Search Interface: PyterrierWebSearchInterface\n",
      "        index_dir: \n",
      "        corpus: wapo\n",
      "        neural: _snippet\n",
      "\n",
      "  User Configuration (GPT+-snipknowfulltf2-10rpp):\n",
      "    Query Generator: PredeterminedQueryGenerator\n",
      "        stopword_file: /workspace/data/stopword-list.txt\n",
      "        query_file: /workspace/data/wapo/gpt+.txt\n",
      "        user: 1\n",
      "    Snippet Classifier: SnippetClassifier\n",
      "        corpus: wapo\n",
      "        criterion: full_knowledge\n",
      "        criterion_threshold: 2.0\n",
      "    Document Classifier: StochasticInformedTrecTextClassifier\n",
      "        qrel_file: /workspace/data/wapo/wapo_qrels\n",
      "        rprob: 1.0\n",
      "        nprob: 0.0\n",
      "        data_handler: 0\n",
      "    Stopping Decision Maker: FixedDepthDecisionMaker\n",
      "        depth: 10\n",
      "    SERP Impression: SimpleSERPImpression\n",
      "        qrel_file: /workspace/data/wapo/wapo_qrels\n",
      "    Logger: FixedCostLogger\n",
      "        time_limit: 10000\n",
      "        query_cost: 10\n",
      "        document_cost: 20\n",
      "        snippet_cost: 3\n",
      "        serp_results_cost: 5\n",
      "        mark_document_cost: 3\n",
      "    Search Context: SearchContext\n",
      "        relevance_revision: 1\n",
      "\n",
      "^C\n"
     ]
    }
   ],
   "source": [
    "!cd workspace/simiir/ && python run_simiir.py ../sims/simulation_wapo_snippets1.xml"
   ]
  },
  {
   "attachments": {},
   "cell_type": "markdown",
   "metadata": {},
   "source": [
    "# Evaluations"
   ]
  },
  {
   "attachments": {},
   "cell_type": "markdown",
   "metadata": {},
   "source": [
    "## Modalities"
   ]
  },
  {
   "attachments": {},
   "cell_type": "markdown",
   "metadata": {},
   "source": [
    "### sDCG "
   ]
  },
  {
   "attachments": {},
   "cell_type": "markdown",
   "metadata": {},
   "source": [
    "## Browsing behavior"
   ]
  },
  {
   "attachments": {},
   "cell_type": "markdown",
   "metadata": {},
   "source": [
    "### sDCG"
   ]
  }
 ],
 "metadata": {
  "kernelspec": {
   "display_name": "cikm23",
   "language": "python",
   "name": "python3"
  },
  "language_info": {
   "codemirror_mode": {
    "name": "ipython",
    "version": 3
   },
   "file_extension": ".py",
   "mimetype": "text/x-python",
   "name": "python",
   "nbconvert_exporter": "python",
   "pygments_lexer": "ipython3",
   "version": "3.8.18"
  },
  "orig_nbformat": 4
 },
 "nbformat": 4,
 "nbformat_minor": 2
}
