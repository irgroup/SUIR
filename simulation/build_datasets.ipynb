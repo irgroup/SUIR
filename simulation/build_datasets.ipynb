{
 "cells": [
  {
   "cell_type": "code",
   "execution_count": 1,
   "metadata": {},
   "outputs": [],
   "source": [
    "import glob\n",
    "import pickle\n",
    "from tqdm import tqdm\n",
    "\n",
    "from sqlalchemy import Column, Integer, String, Date, Text, ARRAY, FLOAT\n",
    "\n",
    "from sqlalchemy import create_engine\n",
    "from sqlalchemy.orm import sessionmaker\n",
    "from sqlalchemy.ext.declarative import declarative_base\n",
    "\n",
    "from db_utils import WapoQueries, WapoDocEmbeddings, gen_session, refresh_db, get_wapo_doc2query, get_wapo_emb\n",
    "\n",
    "import ir_datasets\n",
    "import zipfile\n",
    "\n",
    "import pyterrier as pt"
   ]
  },
  {
   "cell_type": "code",
   "execution_count": null,
   "metadata": {},
   "outputs": [],
   "source": [
    "#! createdb -h postgres datasets"
   ]
  },
  {
   "cell_type": "code",
   "execution_count": 2,
   "metadata": {},
   "outputs": [],
   "source": [
    "server_address = 'postgresql://root@postgres:5432/'"
   ]
  },
  {
   "cell_type": "code",
   "execution_count": 3,
   "metadata": {},
   "outputs": [],
   "source": [
    "session = gen_session(server_address=server_address, db_name=\"datasets\")"
   ]
  },
  {
   "cell_type": "code",
   "execution_count": 4,
   "metadata": {},
   "outputs": [
    {
     "name": "stderr",
     "output_type": "stream",
     "text": [
      "/tmp/ipykernel_71018/4196137762.py:1: MovedIn20Warning: The ``declarative_base()`` function is now available as sqlalchemy.orm.declarative_base(). (deprecated since: 2.0) (Background on SQLAlchemy 2.0 at: https://sqlalche.me/e/b8d9)\n",
      "  Base = declarative_base()\n"
     ]
    }
   ],
   "source": [
    "Base = declarative_base()"
   ]
  },
  {
   "cell_type": "code",
   "execution_count": 5,
   "metadata": {},
   "outputs": [],
   "source": [
    "#define tables\n",
    "class WapoEntry(Base):\n",
    "    __tablename__ = 'wapo'\n",
    "    doc_id = Column(String, primary_key=True)\n",
    "    url = Column(String)\n",
    "    title = Column(String)\n",
    "    author = Column(String)\n",
    "    kicker = Column(Text)\n",
    "    body = Column(Text)\n",
    "    \n",
    "    def __repr__(self):\n",
    "        repr_str = f\"doc_id={self.doc_id}, url={self.url}, title={self.title}, author={self.author},\"\\\n",
    "        f\"kicker={self.kicker}, body={self.body}\"\n",
    "        \n",
    "        return repr_str\n",
    "    \n",
    "class NytEntry(Base):\n",
    "    __tablename__ = 'nyt'\n",
    "    doc_id = Column(String, primary_key=True)\n",
    "    headline = Column(String)\n",
    "    body = Column(String)\n",
    "    \n",
    "    def __repr__(self):\n",
    "        repr_str = f\"doc_id={self.doc_id}, headline={self.headline}, body={self.body}\"\n",
    "\n",
    "        return repr_str"
   ]
  },
  {
   "cell_type": "code",
   "execution_count": 6,
   "metadata": {},
   "outputs": [],
   "source": [
    "#create tables\n",
    "\n",
    "engine = create_engine(server_address + \"datasets\")\n",
    "Base.metadata.create_all(engine)"
   ]
  },
  {
   "cell_type": "code",
   "execution_count": 7,
   "metadata": {},
   "outputs": [],
   "source": [
    "!cp /workspace/data/wapo/WashingtonPost.v2.tar.gz /root/.ir_datasets/wapo/\n",
    "!cp /workspace/data/nyt/nyt.tgz /root/.ir_datasets/nyt/"
   ]
  },
  {
   "cell_type": "code",
   "execution_count": 8,
   "metadata": {},
   "outputs": [],
   "source": [
    "dataset_nyt = ir_datasets.load(\"nyt\")\n",
    "dataset_wapo = ir_datasets.load(\"wapo/v2\")"
   ]
  },
  {
   "cell_type": "code",
   "execution_count": 9,
   "metadata": {},
   "outputs": [],
   "source": [
    "with zipfile.ZipFile(\"/workspace/data/nyt/nyt.tgz.pklz4.zip\",\"r\") as zip_ref:\n",
    "      zip_ref.extractall(\"/root/.ir_datasets/nyt/\")"
   ]
  },
  {
   "cell_type": "code",
   "execution_count": 10,
   "metadata": {},
   "outputs": [],
   "source": [
    "with zipfile.ZipFile(\"/workspace/data/wapo/WashingtonPost.v2.tar.gz.pklz4.zip\",\"r\") as zip_ref:\n",
    "      zip_ref.extractall(\"/root/.ir_datasets/wapo/\")"
   ]
  },
  {
   "cell_type": "code",
   "execution_count": 11,
   "metadata": {},
   "outputs": [],
   "source": [
    "docstore_nyt = dataset_nyt.docs_store()\n",
    "docstore_wapo = dataset_wapo.docs_store()"
   ]
  },
  {
   "cell_type": "code",
   "execution_count": 12,
   "metadata": {},
   "outputs": [
    {
     "data": {
      "text/plain": [
       "'DEATH TOLL AT 95 IN SAN JUAN BLAZE AS SEARCH GOES ON'"
      ]
     },
     "execution_count": 12,
     "metadata": {},
     "output_type": "execute_result"
    }
   ],
   "source": [
    "docstore_nyt.get(\"532\").headline"
   ]
  },
  {
   "cell_type": "code",
   "execution_count": null,
   "metadata": {},
   "outputs": [],
   "source": [
    "docstore_wapo.get(\"4b0d69ae-d85a-11e2-a9f2-42ee3912ae0e\")"
   ]
  },
  {
   "cell_type": "code",
   "execution_count": null,
   "metadata": {},
   "outputs": [],
   "source": [
    "#fill database with entries\n",
    "cnt = 0\n",
    "\n",
    "with tqdm(total=dataset_wapo.docs_count()) as tbar:\n",
    "    for doc in dataset_wapo.docs_iter():\n",
    "        session.add(WapoEntry(doc_id = doc.doc_id, url=doc.url, title=doc.title, author=doc.author, kicker=doc.kicker, body=doc.body))\n",
    "        cnt+=1\n",
    "        if cnt%1000 == 0:\n",
    "            session.commit()\n",
    "        tbar.update()\n",
    "    session.commit()"
   ]
  },
  {
   "cell_type": "code",
   "execution_count": null,
   "metadata": {},
   "outputs": [],
   "source": [
    "cnt = 0\n",
    "#here we need to check for duplicates first. only the first doc with a unique doc_id will remain in the table\n",
    "fin_docs = set()\n",
    "\n",
    "with tqdm(total=dataset_nyt.docs_count()) as tbar:\n",
    "    for doc in dataset_nyt.docs_iter():\n",
    "        if doc.doc_id not in fin_docs:\n",
    "            session.add(NytEntry(doc_id = doc.doc_id, headline=doc.headline, body=doc.body))\n",
    "            fin_docs.add(doc.doc_id )\n",
    "            cnt+=1\n",
    "\n",
    "        if cnt%1000 == 0:\n",
    "            session.commit()\n",
    "        tbar.update()\n",
    "    session.commit()"
   ]
  },
  {
   "cell_type": "code",
   "execution_count": null,
   "metadata": {},
   "outputs": [],
   "source": [
    "#create indices"
   ]
  },
  {
   "cell_type": "code",
   "execution_count": 14,
   "metadata": {},
   "outputs": [
    {
     "name": "stderr",
     "output_type": "stream",
     "text": [
      "PyTerrier 0.9.2 has loaded Terrier 5.7 (built by craigm on 2022-11-10 18:30) and terrier-helper 0.0.7\n",
      "\n",
      "No etc/terrier.properties, using terrier.default.properties for bootstrap configuration.\n"
     ]
    }
   ],
   "source": [
    "if not pt.started():\n",
    "  pt.init()"
   ]
  },
  {
   "cell_type": "code",
   "execution_count": null,
   "metadata": {},
   "outputs": [],
   "source": [
    "index_location_nyt = '/root/.ir_datasets/nyt/'\n",
    "indexer_nyt = pt.IterDictIndexer(index_location_nyt)\n",
    "\n",
    "indexer_nyt = pt.IterDictIndexer(\n",
    "        index_location_nyt,\n",
    "        verbose=True,\n",
    "        meta={\"docno\": 26, \"body\": 100000},\n",
    "        meta_tags={\"body\": \"ELSE\"},\n",
    "        blocks=True\n",
    "        )\n",
    "ds_corpus_nyt = pt.get_dataset('irds:nyt')"
   ]
  },
  {
   "cell_type": "code",
   "execution_count": null,
   "metadata": {},
   "outputs": [],
   "source": [
    "index_ref_nyt = indexer.index(ds_corpus_nyt.get_corpus_iter(), fields=['headline', 'body'])\n",
    "#index_ref_nyt = pt.IndexRef.of('/root/.ir_datasets/nyt/')"
   ]
  },
  {
   "cell_type": "code",
   "execution_count": 15,
   "metadata": {},
   "outputs": [],
   "source": [
    "index_location_wapo = '/root/.ir_datasets/wapo/'\n",
    "indexer_wapo = pt.IterDictIndexer(index_location_wapo)\n",
    "\n",
    "indexer_wapo = pt.IterDictIndexer(\n",
    "        index_location_wapo,\n",
    "        verbose=True,\n",
    "        meta={\"docno\": 70, \"body\": 100000},\n",
    "        meta_tags={\"body\": \"ELSE\"},\n",
    "        blocks=True\n",
    "        )\n",
    "ds_corpus_wapo = pt.get_dataset('irds:wapo/v2')"
   ]
  },
  {
   "cell_type": "code",
   "execution_count": 16,
   "metadata": {},
   "outputs": [
    {
     "name": "stderr",
     "output_type": "stream",
     "text": [
      "wapo/v2 documents:  89%|████████▊ | 527298/595037 [07:29<01:26, 779.87it/s] "
     ]
    }
   ],
   "source": [
    "index_ref_wapo = indexer_wapo.index(ds_corpus_wapo.get_corpus_iter(), fields=['title', 'body', 'kicker'])\n",
    "#index_ref_wapo = pt.IndexRef.of(index_location_wapo)"
   ]
  },
  {
   "cell_type": "code",
   "execution_count": null,
   "metadata": {},
   "outputs": [],
   "source": []
  }
 ],
 "metadata": {
  "kernelspec": {
   "display_name": "Python 3",
   "language": "python",
   "name": "python3"
  },
  "language_info": {
   "codemirror_mode": {
    "name": "ipython",
    "version": 3
   },
   "file_extension": ".py",
   "mimetype": "text/x-python",
   "name": "python",
   "nbconvert_exporter": "python",
   "pygments_lexer": "ipython3",
   "version": "3.8.17"
  },
  "orig_nbformat": 4
 },
 "nbformat": 4,
 "nbformat_minor": 2
}
