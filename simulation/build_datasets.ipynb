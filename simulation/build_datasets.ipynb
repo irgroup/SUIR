{
 "cells": [
  {
   "cell_type": "code",
   "execution_count": 11,
   "metadata": {},
   "outputs": [],
   "source": [
    "import glob\n",
    "import pickle\n",
    "from tqdm import tqdm\n",
    "\n",
    "from sqlalchemy import Column, Integer, String, Date, Text, ARRAY, FLOAT\n",
    "\n",
    "from sqlalchemy import create_engine\n",
    "from sqlalchemy.orm import sessionmaker\n",
    "from sqlalchemy.ext.declarative import declarative_base\n",
    "\n",
    "from db_utils import WapoQueries, WapoDocEmbeddings, gen_session, refresh_db, get_wapo_doc2query, get_wapo_emb\n",
    "\n",
    "import ir_datasets\n",
    "import zipfile"
   ]
  },
  {
   "cell_type": "code",
   "execution_count": 2,
   "metadata": {},
   "outputs": [],
   "source": [
    "#! createdb -h postgres datasets"
   ]
  },
  {
   "cell_type": "code",
   "execution_count": null,
   "metadata": {},
   "outputs": [],
   "source": [
    "server_address = 'postgresql://root@postgres:5432/'"
   ]
  },
  {
   "cell_type": "code",
   "execution_count": null,
   "metadata": {},
   "outputs": [],
   "source": [
    "session = gen_session(server_address=server_address, db_name=\"datasets\")"
   ]
  },
  {
   "cell_type": "code",
   "execution_count": null,
   "metadata": {},
   "outputs": [],
   "source": [
    "Base = declarative_base()"
   ]
  },
  {
   "cell_type": "code",
   "execution_count": null,
   "metadata": {},
   "outputs": [],
   "source": [
    "#define tables\n",
    "class WapoEntry(Base):\n",
    "    __tablename__ = 'wapo'\n",
    "    doc_id = Column(String, primary_key=True)\n",
    "    url = Column(String)\n",
    "    title = Column(String)\n",
    "    author = Column(String)\n",
    "    kicker = Column(Text)\n",
    "    body = Column(Text)\n",
    "    \n",
    "    def __repr__(self):\n",
    "        repr_str = f\"doc_id={self.doc_id}, url={self.url}, title={self.title}, author={self.author},\"\\\n",
    "        f\"kicker={self.kicker}, body={self.body}\"\n",
    "        \n",
    "        return repr_str\n",
    "    \n",
    "class NytEntry(Base):\n",
    "    __tablename__ = 'nyt'\n",
    "    doc_id = Column(String, primary_key=True)\n",
    "    headline = Column(String)\n",
    "    body = Column(String)\n",
    "    \n",
    "    def __repr__(self):\n",
    "        repr_str = f\"doc_id={self.doc_id}, headline={self.headline}, body={self.body}\"\n",
    "\n",
    "        return repr_str"
   ]
  },
  {
   "cell_type": "code",
   "execution_count": null,
   "metadata": {},
   "outputs": [],
   "source": [
    "#create tables\n",
    "\n",
    "engine = create_engine(server_address + \"datasets\")\n",
    "Base.metadata.create_all(engine)"
   ]
  },
  {
   "cell_type": "code",
   "execution_count": 25,
   "metadata": {},
   "outputs": [],
   "source": [
    "dataset_nyt = ir_datasets.load(\"nyt\")\n",
    "dataset_wapo = ir_datasets.load(\"wapo/v2\")"
   ]
  },
  {
   "cell_type": "code",
   "execution_count": 17,
   "metadata": {},
   "outputs": [],
   "source": [
    "with zipfile.ZipFile(\"/workspace/data/nyt/nyt.tgz.pklz4.zip\",\"r\") as zip_ref:\n",
    "      zip_ref.extractall(\"/root/.ir_datasets/nyt/\")"
   ]
  },
  {
   "cell_type": "code",
   "execution_count": 21,
   "metadata": {},
   "outputs": [],
   "source": [
    "with zipfile.ZipFile(\"/workspace/data/wapo/WashingtonPost.v2.tar.gz.pklz4.zip\",\"r\") as zip_ref:\n",
    "      zip_ref.extractall(\"/root/.ir_datasets/wapo/\")"
   ]
  },
  {
   "cell_type": "code",
   "execution_count": 27,
   "metadata": {},
   "outputs": [],
   "source": [
    "docstore_nyt = dataset_nyt.docs_store()\n",
    "docstore_wapo = dataset_wapo.docs_store()"
   ]
  },
  {
   "cell_type": "code",
   "execution_count": 19,
   "metadata": {},
   "outputs": [
    {
     "data": {
      "text/plain": [
       "'DEATH TOLL AT 95 IN SAN JUAN BLAZE AS SEARCH GOES ON'"
      ]
     },
     "execution_count": 19,
     "metadata": {},
     "output_type": "execute_result"
    }
   ],
   "source": [
    "docstore_nyt.get(\"532\").headline"
   ]
  },
  {
   "cell_type": "code",
   "execution_count": 29,
   "metadata": {},
   "outputs": [
    {
     "data": {
      "text/plain": [
       "WapoDoc(doc_id='4b0d69ae-d85a-11e2-a9f2-42ee3912ae0e', url='https://www.washingtonpost.com/politics/2013/07/14/4b0d69ae-d85a-11e2-a9f2-42ee3912ae0e_story.html', title='Reid-McConnell clash latest evidence genteel Senate has turned into a fight club', author='Paul Kane', published_date=1373846443000, kicker='Politics', body='The 2014 midterm elections are just around the corner. These are the races to watch.\\nThe U.S. Senate, once considered the most exclusive and chummiest club in America, has in recent years been transformed into an ideological war zone, where comity and compromise have lost their allure, while confrontation and showmanship now pay big dividends.\\n\\n\\nReid’s move\\nSuddenly, the world’s greatest deliberative body just isn’t that much fun anymore.\\nA three-minute mashup of a spat between Senate Majority Leader Harry Reid and Minority Leader Mitch McConnell on the Senate floor.\\n“I miss it like an abscessed tooth,” former senator Christopher S. Bond (R-Mo.), a 24-year veteran, said on a recent visit to the Capitol.\\nThe dysfunction fever is so strong that Reid and McConnell relented to a rank-and-file request to set up a rare meeting for senators of both parties Monday night in the Old Senate Chamber.\\nThose working at the last-gasp filibuster compromise fear that if they fail, the Senate will put itself on a permanent downward spiral later this week.\\n\\n“Each time we come closer and closer to having this happen,” McCain said Friday.\\n\\nOne GOP senator last week pleaded with McConnell to reach out to Reid to establish some regular channel of communication, maybe a biweekly breakfast, to try to solve their problems. McConnell declined, saying he simply could not trust Reid, according to the Senate Republican, who asked for anonymity to speak about the relationship.\\n\\nBut in some way the Reid-McConnell clash is a symptom of other changes in the Senate.\\nThe giants of the Senate\\nIn the past five years, through death and retirement, the Senate has lost a clutch of legends, powerful voices whose decades of service gave them enough influence to rival that of the leaders.\\nJohn W. Warner (R-Va.), Edward M. Kennedy (D-Mass.) and Ted Stevens (R-Alaska). These were Senate barons who could roll their own leadership when it was required to make a deal. Warner retired in 2008. Stevens and Kennedy died in 2009.\\n\\n\\nThey have been replaced by a historically large group of newcomers who are generally more partisan and have pushed leaders, their party and the Senate to a more combative footing.\\n\\n\\nEach of those were approved after lengthy, freewheeling debate on amendments in line with Senate traditions. At this stage of 2011, the Senate had held only 106 roll-call votes; this year, 171. Yet some basics, such as the budget resolution, have ground to a procedural halt.\\n“The notion that we can’t work together on anything, I’m not finding that to be true,” Kaine said. “But I’m also finding things that ought to be simple are hard. It’s like parallel universes. I’m trying to understand how an institution can be both.”\\nDuring his 24 years in the Senate, Bond remembers strong cross-party alliances that ended up with bills that got huge bipartisan majorities when they came to the floor.\\n“Those were the good ol’ days,” Bond said.\\nNo punching, at least\\nNostalgia for the more genteel Senate is a favorite pastime of senators and other close observers of the body.\\n\\nDodd mocked the idea that the chamber is “too partisan,” noting that the Senate’s heyday in the 19th century — when legends such as Henry Clay, John Calhoun and Daniel Webster served — included fistfights and the occasional gun duel.\\nDodd said today’s newcomers will rise to the occasion if they get the time and chance to legislate in the Senate. There are 55 senators who have taken office since January 2007, never having experienced a GOP majority. It’s the third large wave of new senators in the past 100 years, the first coming after World War II and the second coming on the heels of the Watergate scandal and the Reagan landslide of 1980.\\nIn his first term, in the early 1980s, Dodd spent several days a week angling for a seat in the crowded, private, senators-only dining room on the Capitol’s first floor, soaking up the wisdom of the likes of Sens. Daniel Patrick Moynihan (D-N.Y.), John Stennis (D-Miss.) and Robert J. Dole (R-Kan.). Those three alone served more than 100 combined years and chaired several of the most powerful committees.\\n“It was my PhD in my first seven, eight years,” said Dodd, who made a habit of showing that dining room to new senators in his last days before retiring. “It was as good an education as could be had in the Senate.”\\nNowadays, that room is dormant. Each party schedules mandatory lunches for its own caucus almost every day the Senate is in session.\\n\\nThere was one occasion recently that recalled the old days. In April, to mark the 40th anniversary of McCain’s release from his long captivity as a prisoner of during Vietnam, Reid hosted a luncheon for McCain.\\n“Nobody can recall the last time there was one,” McCain said of such a bipartisan gathering, “and everybody walked out of that room with goodwill, good feelings.”\\nThere are those who hold on to the possibility that things can improve.\\nAs he considered whether to make a Senate bid, Kaine approached Warner, the venerable Republican first elected in 1978 who served 30 years. From the opposite party, Warner could offer only advice, not an endorsement. He said that the Senate used to be such a wonderful place to be that anyone with even a “2 percent chance to win” should take the chance.\\n“I can’t tell you that so unequivocally now, because so many things have changed and it’s so much more difficult,” he said, according to Kaine’s recounting.\\nBut Warner urged Kaine to run because he believed that the problems were fixable.\\n“It’s not in the water supply,” Warner said. “It’s not sick-building syndrome. It’s just the character and inclination of the people who walk in the building every day.”\\n“So it could be different tomorrow,” he added.', body_paras_html=('The U.S. Senate, once considered the most exclusive and chummiest club in America, has in recent years been transformed into an ideological war zone, where comity and compromise have lost their allure, while confrontation and showmanship now pay big dividends.', '“The only way you get something is to become obnoxious,” <a href=\"http://www.washingtonpost.com/politics/mary-landrieu-d-la/gIQAi61x9O_topic.html\" title=\"www.washingtonpost.com\">Sen. Mary Landrieu (D-La.)</a> declared during the recent <a href=\"http://www.washingtonpost.com/politics/immigration-in-the-united-states/gJQABIXxeV_topic.html\" title=\"www.washingtonpost.com\">immigration debate</a>, explaining her threat to block the entire process. “We have turned from a Senate to a theater, and I’m tired of being part of a theater. If I wanted to be part of a theater, I would have gone to New York.”', 'The theatrics reached a new crescendo Thursday when <a href=\"http://www.washingtonpost.com/politics/harry-m-reid-d-nev/gIQA8MlN9O_topic.html\" title=\"www.washingtonpost.com\">Majority Leader Harry M. Reid (D-Nev.)</a> and <a href=\"http://www.washingtonpost.com/politics/mitch-mcconnell-r-ky/gIQAYR2b9O_topic.html\" title=\"www.washingtonpost.com\">Minority Leader Mitch McConnell (R-Ky.)</a> confronted each other over <a href=\"http://www.washingtonpost.com/posttv/politics/reid-mcconnell-spar-over-filibuster-obama-nominees/2013/07/11/6726773e-ea4d-11e2-aa9f-c03a72e2d342_video.html\" title=\"www.washingtonpost.com\">Reid’s effort to change the filibuster rules</a> in ways that would strip the GOP’s ability to block confirmation of executive branch nominees and that could ultimately weaken the minority party’s ability to slow the majority agenda.', '<a href=\"http://www.washingtonpost.com/politics/amid-acrimony-senate-moves-toward-historic-vote-to-change-its-rules/2013/07/11/e3e06e2c-ea45-11e2-a301-ea5a8116d211_story.html\" title=\"www.washingtonpost.com\">Reid’s move</a> provoked some of the most personal attacks two Senate leaders have leveled against another in decades; Reid described McConnell as untrustworthy, while McConnell countered that the Nevada Democrat would go down in history as the worst Senate leader ever.', 'Suddenly, the world’s greatest deliberative body just isn’t that much fun anymore.', '“I miss it like an abscessed tooth,” former senator Christopher S. Bond (R-Mo.), a 24-year veteran, said on a recent visit to the Capitol.', 'The dysfunction fever is so strong that Reid and McConnell relented to a rank-and-file request to set up a rare meeting for senators of both parties Monday night in the Old Senate Chamber.', 'Those working at the last-gasp filibuster compromise fear that if they fail, the Senate will put itself on a permanent downward spiral later this week.', '“There’s no doubt that it’s harder and it’s more partisan,” said <a href=\"http://www.washingtonpost.com/politics/john-mccain-r-ariz/gIQAXQHr9O_topic.html\" title=\"www.washingtonpost.com\">Sen. John McCain (R-Ariz.)</a>, who has spent the past few days talking with senators and White House allies hoping to hatch a compromise on Senate rules. McCain has succeeded twice before at reaching a compromise to avoid partisan rule changes, first in 2005 and again this year.', '“Each time we come closer and closer to having this happen,” McCain said Friday.', 'Interviews with more than a dozen current and recently retired senators paint a mostly dismal picture of life in the Senate. There is a growing sense of despair among the rank-and-file senators, who privately grouse that the two leaders, despite many similarities in style and background, have become so distrustful of one another they barely speak to each other, except for small talk about their shared love of the <a href=\"http://www.washingtonpost.com/blogs/nationals-journal/\" title=\"www.washingtonpost.com\">Washington Nationals</a>.', 'One GOP senator last week pleaded with McConnell to reach out to Reid to establish some regular channel of communication, maybe a biweekly breakfast, to try to solve their problems. McConnell declined, saying he simply could not trust Reid, according to the Senate Republican, who asked for anonymity to speak about the relationship.', 'Reid and McConnell are “institutionalists” who shared the same career goal — to be Senate majority leader. Reid has been since 2007, McConnell will probably need <a href=\"http://www.washingtonpost.com/politics/schweitzers-decision-not-to-run-for-senate-is-a-gift-to-gop/2013/07/13/fa5d68cc-ebe3-11e2-a301-ea5a8116d211_story.html\" title=\"www.washingtonpost.com\">six additional Republican seats in the 2014 midterms</a> to reach his lifelong prize. By those elections, they will have served as party leaders longer than any duo since Robert C. Byrd (D-W.Va.) and Howard Baker (R-Tenn.) in the late 1970s and early 1980s. However, instead of growing closer, Reid and McConnell have grown more distant and distrustful of each other, according to senators on both sides of the aisle.', 'But in some way the Reid-McConnell clash is a symptom of other changes in the Senate.', 'The giants of the Senate', 'In the past five years, through death and retirement, the Senate has lost a clutch of legends, powerful voices whose decades of service gave them enough influence to rival that of the leaders.', 'John W. Warner (R-Va.), Edward M. Kennedy (D-Mass.) and Ted Stevens (R-Alaska). These were Senate barons who could roll their own leadership when it was required to make a deal. Warner retired in 2008. Stevens and Kennedy died in 2009.', 'A treasured requirement for freshman orientation used to be a <a href=\"http://www.senate.gov/reference/Sessions/Traditions/Orientation_programs.htm\" target=\"_blank\">rules lecture inside the chamber from Byrd</a>, the longest-serving senator ever, who wrote a book on parliamentary rules. But no senator has taken up that role since Byrd grew ill and died in 2010.', 'There has been a shift away from “senators who carried with them the sense of the history and the traditions of the Senate,” said <a href=\"http://www.washingtonpost.com/politics/lisa-murkowski-r-alaska/gIQA6VzBAP_topic.html\" title=\"www.washingtonpost.com\">Sen. Lisa Murkowski (R-Alaska)</a>, who arrived in 2003. “There was that class of senior senators that were accorded a great deal of respect and authority.”', 'They have been replaced by a historically large group of newcomers who are generally more partisan and have pushed leaders, their party and the Senate to a more combative footing.', 'In March, <a href=\"http://www.washingtonpost.com/politics/dianne-feinstein-d-calif/gIQAnrCyDP_topic.html\" title=\"www.washingtonpost.com\">Sen. Dianne Feinstein (D-Calif.)</a>, a 20-year veteran, bristled at freshman <a href=\"http://www.washingtonpost.com/politics/ted-cruz/b8d4a00a-4bbb-11e2-8758-b64a2997a921_topic.html\" title=\"www.washingtonpost.com\">Sen. Ted Cruz (R-Tex.)</a> for what she described as his condescending tone <a href=\"http://abcnews.go.com/Politics/video/dianne-feinstein-bristles-ted-cruzs-constitution-lecture-18729511\" target=\"_blank\">during a debate about gun control</a>, lecturing Cruz that she was not a sixth-grader. A week earlier, McCain, responding to a filibuster led by <a href=\"http://www.washingtonpost.com/politics/rand-paul-r-ky/gIQA5AakAP_topic.html\" title=\"www.washingtonpost.com\">Sen. Rand Paul (R-Ky.)</a> against the confirmation of John Brennan as CIA director, called Paul and his younger<a href=\"http://www.washingtonpost.com/blogs/post-politics/wp/2013/03/08/mccain-calls-paul-cruz-amash-wacko-birds/\"> libertarian-leaning Senate allies a bunch of “wacko birds.”</a>', 'If there is any hope that better is possible, it comes from <a href=\"http://www.washingtonpost.com/politics/tim-kaine/gIQAem3o9O_topic.html\" title=\"www.washingtonpost.com\">Sen. Timothy M. Kaine (D-Va.)</a>. Six months into his first term, Kaine has been pleasantly surprised. In the past two months the Senate has approved, by large bipartisan margins, legislation to shore up the nation’s waterways, an overhaul of farm policy and a comprehensive immigration bill.', 'Each of those were approved after lengthy, freewheeling debate on amendments in line with Senate traditions. At this stage of 2011, the Senate had held only 106 roll-call votes; this year, 171. Yet some basics, such as the budget resolution, have ground to a procedural halt.', '“The notion that we can’t work together on anything, I’m not finding that to be true,” Kaine said. “But I’m also finding things that ought to be simple are hard. It’s like parallel universes. I’m trying to understand how an institution can be both.”', 'During his 24 years in the Senate, Bond remembers strong cross-party alliances that ended up with bills that got huge bipartisan majorities when they came to the floor.', '“Those were the good ol’ days,” Bond said.', 'No punching, at least', 'Nostalgia for the more genteel Senate is a favorite pastime of senators and other close observers of the body.', '“I’m exhausted from hearing about the good ol’ days,” said <a href=\"http://www.washingtonpost.com/politics/christopher-j-dodd/gIQAmFfM9O_topic.html\" title=\"www.washingtonpost.com\">Christopher J. Dodd (D-Conn.)</a>, a 30-year senator who retired, like Bond, at the end of 2010.', 'Dodd mocked the idea that the chamber is “too partisan,” noting that the Senate’s heyday in the 19th century — when legends such as Henry Clay, John Calhoun and Daniel Webster served — included fistfights and the occasional gun duel.', 'Dodd said today’s newcomers will rise to the occasion if they get the time and chance to legislate in the Senate. There are 55 senators who have taken office since January 2007, never having experienced a GOP majority. It’s the third large wave of new senators in the past 100 years, the first coming after World War II and the second coming on the heels of the Watergate scandal and the Reagan landslide of 1980.', 'In his first term, in the early 1980s, Dodd spent several days a week angling for a seat in the crowded, private, senators-only dining room on the Capitol’s first floor, soaking up the wisdom of the likes of Sens. Daniel Patrick Moynihan (D-N.Y.), John Stennis (D-Miss.) and Robert J. Dole (R-Kan.). Those three alone served more than 100 combined years and chaired several of the most powerful committees.', '“It was my PhD in my first seven, eight years,” said Dodd, who made a habit of showing that dining room to new senators in his last days before retiring. “It was as good an education as could be had in the Senate.”', 'Nowadays, that room is dormant. Each party schedules mandatory lunches for its own caucus almost every day the Senate is in session.', '“I don’t know if the dining room is still open,” <a href=\"http://www.washingtonpost.com/politics/john-d-rockefeller-iv-d-westva/gIQAElxz9O_topic.html\" title=\"www.washingtonpost.com\">Sen. John D. Rockefeller IV (D-W.Va.)</a>, a 27-year veteran, recently confided.', 'There was one occasion recently that recalled the old days. In April, to mark the 40th anniversary of McCain’s release from his long captivity as a prisoner of during Vietnam, Reid hosted a luncheon for McCain.', '“Nobody can recall the last time there was one,” McCain said of such a bipartisan gathering, “and everybody walked out of that room with goodwill, good feelings.”', 'There are those who hold on to the possibility that things can improve.', 'As he considered whether to make a Senate bid, Kaine approached Warner, the venerable Republican first elected in 1978 who served 30 years. From the opposite party, Warner could offer only advice, not an endorsement. He said that the Senate used to be such a wonderful place to be that anyone with even a “2 percent chance to win” should take the chance.', '“I can’t tell you that so unequivocally now, because so many things have changed and it’s so much more difficult,” he said, according to Kaine’s recounting.', 'But Warner urged Kaine to run because he believed that the problems were fixable.', '“It’s not in the water supply,” Warner said. “It’s not sick-building syndrome. It’s just the character and inclination of the people who walk in the building every day.”', '“So it could be different tomorrow,” he added.'), body_media=(WapoDocMedia(type='gallery', url='https://www.washingtonpost.com/politics/the-fixs-top-10-senate-races-of-2014/2013/04/04/d82a7a14-9d38-11e2-9a79-eb5280c81c63_gallery.html', text='The 2014 midterm elections are just around the corner. These are the races to watch.'), WapoDocMedia(type='video', url='http://www.washingtonpost.com/posttv/politics/reid-mcconnell-spar-over-filibuster-obama-nominees/2013/07/11/6726773e-ea4d-11e2-aa9f-c03a72e2d342_video.html', text='A three-minute mashup of a spat between Senate Majority Leader Harry Reid and Minority Leader Mitch McConnell on the Senate floor.')))"
      ]
     },
     "execution_count": 29,
     "metadata": {},
     "output_type": "execute_result"
    }
   ],
   "source": [
    "docstore_wapo.get(\"4b0d69ae-d85a-11e2-a9f2-42ee3912ae0e\")"
   ]
  },
  {
   "cell_type": "code",
   "execution_count": null,
   "metadata": {},
   "outputs": [],
   "source": [
    "#create indices\n",
    "\n"
   ]
  }
 ],
 "metadata": {
  "kernelspec": {
   "display_name": "Python 3",
   "language": "python",
   "name": "python3"
  },
  "language_info": {
   "codemirror_mode": {
    "name": "ipython",
    "version": 3
   },
   "file_extension": ".py",
   "mimetype": "text/x-python",
   "name": "python",
   "nbconvert_exporter": "python",
   "pygments_lexer": "ipython3",
   "version": "3.8.17"
  },
  "orig_nbformat": 4
 },
 "nbformat": 4,
 "nbformat_minor": 2
}
