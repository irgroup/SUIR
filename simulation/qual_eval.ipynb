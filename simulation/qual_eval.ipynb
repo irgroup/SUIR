{
 "cells": [
  {
   "cell_type": "code",
   "execution_count": 1,
   "metadata": {},
   "outputs": [],
   "source": [
    "import glob\n",
    "import pprint"
   ]
  },
  {
   "cell_type": "code",
   "execution_count": 2,
   "metadata": {},
   "outputs": [],
   "source": [
    "log_root_path = \"workspace/sims/output/*\"\n",
    "log_paths = sorted(glob.glob(log_root_path)) \n"
   ]
  },
  {
   "cell_type": "code",
   "execution_count": 54,
   "metadata": {},
   "outputs": [
    {
     "name": "stdout",
     "output_type": "stream",
     "text": [
      "50\n"
     ]
    }
   ],
   "source": [
    "aspects = ['GPT+', 'perfect', '10rpp', 'wapo', 'bm25']\n",
    "log_types = ['queries']\n",
    "current_paths = sorted([path for path in log_paths if all([a in path for a in aspects]) and all([t in path for t in log_types])])\n",
    "logs_a = [open(current_path, \"r\").read() for current_path in current_paths ]\n",
    "print(len(logs_a))"
   ]
  },
  {
   "cell_type": "code",
   "execution_count": 55,
   "metadata": {},
   "outputs": [
    {
     "name": "stdout",
     "output_type": "stream",
     "text": [
      "50\n"
     ]
    }
   ],
   "source": [
    "aspects = ['D2Q++', 'perfect', '10rpp', 'wapo', 'bm25']\n",
    "log_types = ['queries']\n",
    "current_paths = sorted([path for path in log_paths if all([a in path for a in aspects]) and all([t in path for t in log_types])])\n",
    "logs_b = [open(current_path, \"r\").read() for current_path in current_paths ]\n",
    "print(len(logs_b))"
   ]
  },
  {
   "cell_type": "code",
   "execution_count": 56,
   "metadata": {},
   "outputs": [],
   "source": [
    "#%pprint"
   ]
  },
  {
   "cell_type": "code",
   "execution_count": 57,
   "metadata": {},
   "outputs": [
    {
     "name": "stdout",
     "output_type": "stream",
     "text": [
      "a: Women in Parliaments \t b:women in parliaments\n",
      "a: Women in parliaments \t b:women in parliaments reflect\n",
      "a: Gender gap in political power \t b:women in parliaments legislatures\n",
      "a: Women representation in legislatures \t b:women in parliaments across\n",
      "a: Women’s participation in politics \t b:women in parliaments women\n",
      "a: Female under-representation in politics \t b:women in parliaments mandate\n",
      "a: Women in politics \t b:women in parliaments representation\n",
      "a: Gender inequality in parliaments \t b:women in parliaments inclusion\n",
      "a: Women and political power \t b:women in parliaments relating\n",
      "a: Women in legislative bodies \t b:women in parliaments decreases\n",
      "a: Female political participation \t b:women in parliaments sexes\n",
      "a: Women in decision-making roles \t b:women in parliaments represented\n",
      "a: Gender quota in politics \t b:women in parliaments issue\n",
      "a: Women’s rights and political power \t b:women in parliaments power\n",
      "a: Women representation in government \t b:women in parliaments pertinent\n",
      "a: Women’s empowerment in politics \t b:women in parliaments wide\n",
      "a: Political participation of women \t b:women in parliaments lack\n",
      "a: Women’s representation in local politics \t b:women in parliaments continue\n",
      "a: Gender balance in parliament \t b:women in parliaments percentage\n",
      "a: Women in national assemblies \t b:women in parliaments world\n",
      "a: Women in provincial assemblies \t b:women in parliaments political\n",
      "a: Women in municipal councils \t b:women in parliaments third\n",
      "a: Women in political parties \t b:women in parliaments poorly\n",
      "a: Women leaders in politics \t b:women in parliaments female\n",
      "a: Women in leadership positions \t b:women in parliaments gap\n",
      "a: Gender gap in political decision-making \t b:women in parliaments true\n",
      "a: Women and political campaigns \t b:women in parliaments republican\n",
      "a: Women in electoral politics \t b:women in parliaments africans\n",
      "a: Women’s representation in the UN \t b:women in parliaments samba\n",
      "a: Women in International organizations \t b:women in parliaments party\n",
      "a: Women in diplomacy \t b:women in parliaments cairo\n",
      "a: Women in peacekeeping \t b:women in parliaments going\n",
      "a: Women in conflict resolution \t b:women in parliaments leaders\n",
      "a: Women in human rights organizations \t b:women in parliaments 2016\n",
      "a: Women’s participation in civil society \t b:women in parliaments involved\n",
      "a: Women’s participation in government policy \t b:women in parliaments votes\n",
      "a: Women in public administration \t b:women in parliaments partys\n",
      "a: Women in judiciary \t b:women in parliaments time\n",
      "a: Women’s representation in international courts \t b:women in parliaments who\n",
      "a: Women in law-making bodies \t b:women in parliaments process\n",
      "a: Women in parliamentary committees \t b:women in parliaments city\n",
      "a: Women in parliamentary delegations \t b:women in parliaments caf\n",
      "a: Women’s representation in political forums \t b:women in parliaments onwards\n",
      "a: Women in constitutional assemblies \t b:women in parliaments uganda\n",
      "a: Women’s representation in electoral bodies \t b:women in parliaments clintons\n",
      "a: Women in political education \t b:women in parliaments jordan\n",
      "a: Women’s participation in governance \t b:women in parliaments work\n",
      "a: Women in local governance \t b:women in parliaments date\n",
      "a: Women in regional governance \t b:women in parliaments being\n",
      "a: Women in global governance \t b:women in parliaments omaha\n",
      "a: Women in public service \t b:women in parliaments massoumeh\n",
      "a: Women in government employment \t b:women in parliaments politician\n",
      "a: Women and civil service reform \t b:women in parliaments presidential\n",
      "a: Women in public administration reform \t b:women in parliaments see\n",
      "a: Women’s representation in public management \t b:women in parliaments central\n",
      "a: Women’s participation in political parties \t b:women in parliaments wednesdays\n",
      "a: Women’s representation in opposition parties \t b:women in parliaments irans\n",
      "a: Women in environmental policy-making \t b:women in parliaments african\n",
      "a: Women’s representation in energy policy \t b:women in parliaments panga\n",
      "a: Women in health policy \t b:women in parliaments reason\n",
      "a: Women in education policy \t b:women in parliaments panza\n",
      "a: Women in economic policy \t b:women in parliaments required\n",
      "a: Women in labour policy \t b:women in parliaments facing\n",
      "a: Women in social policy \t b:women in parliaments caracter\n",
      "a: Women and the budget process \t b:women in parliaments day\n",
      "a: Women in parliamentary budget analysis \t b:women in parliaments elections\n",
      "a: Women’s representation in budget formulation \t b:women in parliaments system\n",
      "a: Women in gender-responsive budgeting \t b:women in parliaments hold\n",
      "a: Women in poverty reduction strategies \t b:women in parliaments union\n",
      "a: Women in social protection policies \t b:women in parliaments rights\n",
      "a: Women and migration policy \t b:women in parliaments running\n",
      "a: Women in human security policies \t b:women in parliaments zimbabwes\n",
      "a: Women in national security policy \t b:women in parliaments name\n",
      "a: Women in development policy \t b:women in parliaments war\n",
      "a: Women and foreign policy \t b:women in parliaments place\n",
      "a: Women in climate change policy \t b:women in parliaments nominee\n",
      "a: Women in disaster risk reduction policy \t b:women in parliaments lebanon\n",
      "a: Women in food security policy \t b:women in parliaments numbers\n",
      "a: Women in housing policy \t b:women in parliaments catherine\n",
      "a: Women in transportation policy \t b:women in parliaments polls\n",
      "a: Women in electoral reform \t b:women in parliaments current\n",
      "a: Women in constitution-making \t b:women in parliaments reform\n",
      "a: Women and political identity \t b:women in parliaments view\n",
      "a: Women in cultural and religious discourse \t b:women in parliaments posters\n",
      "a: Women in political communication \t b:women in parliaments begin\n",
      "a: Women and media ethics \t b:women in parliaments egyptian\n",
      "a: Women in political advertising \t b:women in parliaments taking\n",
      "a: Women in political journalism \t b:women in parliaments ugandan\n",
      "a: Women in political cartoons \t b:women in parliaments iranians\n",
      "a: Women in public opinion research \t b:women in parliaments hillary\n",
      "a: Women and political activism \t b:women in parliaments located\n",
      "a: Women in student politics \t b:women in parliaments jordans\n",
      "a: Women in youth politics \t b:women in parliaments pregnancy\n",
      "a: Women in trade union politics \t b:women in parliaments childbirth\n",
      "a: Women in civil society and politics \t b:women in parliaments lebanons\n",
      "a: Women and electoral participation \t b:women in parliaments africa\n",
      "a: Women’s representation in urban politics \t b:women in parliaments actual\n",
      "a: Women’s participation in regional integration \t b:women in parliaments display\n",
      "a: Women in international trade policy \t b:women in parliaments next\n",
      "a: Women in foreign investment \t b:women in parliaments leader\n",
      "a:  \t b:women in parliaments shrine\n"
     ]
    }
   ],
   "source": [
    "t_index = 0\n",
    "\n",
    "for la, lb in zip(logs_a[t_index].split(\"\\n\"), logs_b[t_index].split(\"\\n\")):\n",
    "    print(f\"a: {la} \\t b:{lb}\")"
   ]
  },
  {
   "cell_type": "code",
   "execution_count": null,
   "metadata": {},
   "outputs": [],
   "source": []
  },
  {
   "cell_type": "code",
   "execution_count": null,
   "metadata": {},
   "outputs": [],
   "source": []
  }
 ],
 "metadata": {
  "kernelspec": {
   "display_name": "Python 3",
   "language": "python",
   "name": "python3"
  },
  "language_info": {
   "codemirror_mode": {
    "name": "ipython",
    "version": 3
   },
   "file_extension": ".py",
   "mimetype": "text/x-python",
   "name": "python",
   "nbconvert_exporter": "python",
   "pygments_lexer": "ipython3",
   "version": "3.8.17"
  },
  "orig_nbformat": 4
 },
 "nbformat": 4,
 "nbformat_minor": 2
}
